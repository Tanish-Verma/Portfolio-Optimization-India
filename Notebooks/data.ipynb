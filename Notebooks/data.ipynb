{
 "cells": [
  {
   "cell_type": "markdown",
   "id": "16f16e79",
   "metadata": {},
   "source": [
    "**Notebook 1 Fetch Stock Data** "
   ]
  },
  {
   "cell_type": "code",
   "execution_count": 1,
   "id": "64263059",
   "metadata": {},
   "outputs": [],
   "source": [
    "import yfinance as yf\n",
    "import pandas as pd\n",
    "\n",
    "# 5 stocks of Nifty 50  \n",
    "#Reliance ,HDFC,TCS,ICICI , INFOSYS"
   ]
  },
  {
   "cell_type": "code",
   "execution_count": 2,
   "id": "66b9f621",
   "metadata": {},
   "outputs": [
    {
     "name": "stdout",
     "output_type": "stream",
     "text": [
      "YF.download() has changed argument auto_adjust default to True\n"
     ]
    },
    {
     "name": "stderr",
     "output_type": "stream",
     "text": [
      "[*********************100%***********************]  5 of 5 completed"
     ]
    },
    {
     "name": "stdout",
     "output_type": "stream",
     "text": [
      "Any NaN values present? False\n"
     ]
    },
    {
     "name": "stderr",
     "output_type": "stream",
     "text": [
      "\n"
     ]
    }
   ],
   "source": [
    "# Downloading data for the tickers from Yahoo Finance\n",
    "# The date range is from 2020-06-03 to 2025-06-04\n",
    "tickers = [\"RELIANCE.NS\",\"ICICIBANK.NS\",\"HDFCBANK.NS\",\"TCS.NS\",\"INFY.NS\"]\n",
    "\n",
    "dataOfTickers = yf.download(tickers = tickers,start=\"2020-06-03\",end=\"2025-06-04\")\n",
    "\n",
    "#To check for NAN Values.\n",
    "has_nan = dataOfTickers.isna().any().any()\n",
    "print(\"Any NaN values present?\", has_nan)\n",
    "\n",
    "\n"
   ]
  },
  {
   "cell_type": "code",
   "execution_count": 3,
   "id": "f1f7c6e4",
   "metadata": {},
   "outputs": [],
   "source": [
    "# Saving the Close prices and raw data to CSV files in the Data folder\n",
    "import os\n",
    "\n",
    "# Ensure the directory exists\n",
    "os.makedirs(\"../Data\", exist_ok=True)\n",
    "\n",
    "# Save the Close prices to CSV in the existing Data folder\n",
    "dataOfTickers[\"Close\"].to_csv(\"../Data/close_prices.csv\")\n",
    "#Save the raw data to CSV in the existing Data folder\n",
    "dataOfTickers.to_csv(\"../Data/raw_data.csv\")\n"
   ]
  }
 ],
 "metadata": {
  "kernelspec": {
   "display_name": "venv",
   "language": "python",
   "name": "python3"
  },
  "language_info": {
   "codemirror_mode": {
    "name": "ipython",
    "version": 3
   },
   "file_extension": ".py",
   "mimetype": "text/x-python",
   "name": "python",
   "nbconvert_exporter": "python",
   "pygments_lexer": "ipython3",
   "version": "3.12.4"
  }
 },
 "nbformat": 4,
 "nbformat_minor": 5
}
