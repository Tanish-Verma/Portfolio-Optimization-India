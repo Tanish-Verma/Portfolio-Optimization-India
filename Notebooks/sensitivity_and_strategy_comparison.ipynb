{
 "cells": [
  {
   "cell_type": "code",
   "execution_count": 32,
   "id": "6533d1cf",
   "metadata": {},
   "outputs": [],
   "source": [
    "import pandas as pd\n",
    "import numpy as np \n",
    "from scipy.optimize import minimize\n",
    "import matplotlib.pyplot as plt \n",
    "\n",
    "expected_returns = pd.read_csv(\"../Reports/expected_returns.csv\",index_col=0)\n",
    "cov_matrix = pd.read_csv(\"../Reports/cov_matrix.csv\",index_col=0)\n",
    "optimal_weights = pd.read_csv(\"../Reports/Sector_constrained_portfolio.csv\",index_col=0)\n",
    "tickers = expected_returns.index\n",
    "w_old = pd.read_csv(\"../Reports/Sector_constrained_portfolio.csv\",index_col = 0)\n",
    "w_old = w_old['Max Sharpe Weights']\n",
    "# w_old = np.zeros(len(expected_returns))"
   ]
  },
  {
   "cell_type": "code",
   "execution_count": 33,
   "id": "0898d85f",
   "metadata": {},
   "outputs": [
    {
     "data": {
      "text/plain": [
       "[{'type': 'eq', 'fun': <function __main__.<lambda>(w)>}]"
      ]
     },
     "execution_count": 33,
     "metadata": {},
     "output_type": "execute_result"
    }
   ],
   "source": [
    "import yfinance as yf \n",
    "from collections import defaultdict\n",
    "\n",
    "sector_mapping = {\n",
    "    ticker : yf.Ticker(ticker).info.get('sector') for ticker in tickers\n",
    "}\n",
    "\n",
    "\n",
    "sector_indices = defaultdict(list)\n",
    "\n",
    "# index-based grouping\n",
    "for i, stock in enumerate(sector_mapping):\n",
    "    sector = sector_mapping[stock]\n",
    "    sector_indices[sector].append(i)\n",
    "custom_sector_constraints = {\n",
    "    'Technology': {'min': 0.05, 'max': 0.40},\n",
    "    'Financial Services': {'min': 0.05, 'max': 0.40},\n",
    "    'Energy': {'min': 0.05, 'max': 0.40}\n",
    "}\n",
    "\n",
    "sector_constraints = []\n",
    "\n",
    "for sector, indices in sector_indices.items():\n",
    "    if sector in custom_sector_constraints:\n",
    "        min_limit = custom_sector_constraints[sector]['min']\n",
    "        max_limit = custom_sector_constraints[sector]['max']\n",
    "\n",
    "        sector_constraints.append({\n",
    "            'type': 'ineq',\n",
    "            'fun': lambda w, idx=indices, max_val=max_limit: max_val - np.sum(w[idx])\n",
    "        })\n",
    "\n",
    "        sector_constraints.append({\n",
    "            'type': 'ineq',\n",
    "            'fun': lambda w, idx=indices, min_val=min_limit: np.sum(w[idx]) - min_val\n",
    "        })\n",
    "\n",
    "\n",
    "\n",
    "all_constraints = [\n",
    "    {'type': 'eq', 'fun': lambda w: np.sum(w) - 1},\n",
    "] + sector_constraints\n",
    "\n",
    "base_constraints = [\n",
    "    {'type': 'eq', 'fun': lambda w: np.sum(w) - 1}\n",
    "]\n",
    "base_constraints"
   ]
  },
  {
   "cell_type": "code",
   "execution_count": 34,
   "id": "dbcdbb65",
   "metadata": {},
   "outputs": [],
   "source": [
    "strategies = {\n",
    "    \"base\": {\n",
    "        \"constraints\": base_constraints,\n",
    "        \"use_transaction_cost\": False,\n",
    "    },\n",
    "    \"sector_only\": {\n",
    "        \"constraints\": all_constraints,\n",
    "        \"use_transaction_cost\": False,\n",
    "    },\n",
    "    \"tc_only\": {\n",
    "        \"constraints\": base_constraints,\n",
    "        \"use_transaction_cost\": True,\n",
    "    },\n",
    "    \"combined\": {\n",
    "        \"constraints\": all_constraints,\n",
    "        \"use_transaction_cost\": True,\n",
    "    }\n",
    "}\n"
   ]
  },
  {
   "cell_type": "code",
   "execution_count": 35,
   "id": "d8f5ea8c",
   "metadata": {},
   "outputs": [
    {
     "name": "stdout",
     "output_type": "stream",
     "text": [
      "Running strategy: base\n",
      "Running strategy: sector_only\n",
      "Running strategy: tc_only\n",
      "Running strategy: combined\n"
     ]
    },
    {
     "data": {
      "text/plain": [
       "{'base': {'weights': array([0.12741636, 0.3       , 0.3       , 0.20679917, 0.06578447]),\n",
       "  'return': np.float64(0.22661545808751504),\n",
       "  'volatility': np.float64(0.17100538784330355),\n",
       "  'sharpe': np.float64(0.9743287050124344),\n",
       "  'transaction_cost': 0},\n",
       " 'sector_only': {'weights': array([0.1       , 0.3       , 0.3       , 0.22154062, 0.07845938]),\n",
       "  'return': np.float64(0.22648320058389723),\n",
       "  'volatility': np.float64(0.1710017498138176),\n",
       "  'sharpe': np.float64(0.973576005889764),\n",
       "  'transaction_cost': 0},\n",
       " 'tc_only': {'weights': array([0.12741538, 0.3       , 0.3       , 0.20678196, 0.06580267]),\n",
       "  'return': np.float64(0.22661497342462777),\n",
       "  'volatility': np.float64(0.17100489215793785),\n",
       "  'sharpe': np.float64(0.9743286950571238),\n",
       "  'transaction_cost': np.float64(1.8195622471281482e-07)},\n",
       " 'combined': {'weights': array([0.1       , 0.3       , 0.3       , 0.22145648, 0.07854352]),\n",
       "  'return': np.float64(0.22648092469581904),\n",
       "  'volatility': np.float64(0.17099941059704685),\n",
       "  'sharpe': np.float64(0.9735760147625571),\n",
       "  'transaction_cost': np.float64(0.000274163562535991)}}"
      ]
     },
     "execution_count": 35,
     "metadata": {},
     "output_type": "execute_result"
    }
   ],
   "source": [
    "results = {}\n",
    "risk_free_rate = 0.06\n",
    "alpha = 10\n",
    "\n",
    "transaction_costs = np.ones(len(expected_returns)) * 0.005 \n",
    "def portfolio_return(weights, expected_returns):\n",
    "    return np.dot(weights, expected_returns)\n",
    "\n",
    "def portfolio_volatility(weights, cov_matrix):\n",
    "    return np.sqrt(np.dot(weights.T, np.dot(cov_matrix, weights)))\n",
    "\n",
    "expected_returns_1d = expected_returns.values.flatten()\n",
    "\n",
    "for name, config in strategies.items():\n",
    "    print(f\"Running strategy: {name}\")\n",
    "\n",
    "    def objective(weights,risk_free_rate):\n",
    "        ret = portfolio_return(weights,expected_returns)\n",
    "        vol = portfolio_volatility(weights,cov_matrix)\n",
    "        sharpe = (ret - risk_free_rate)/ vol\n",
    "        \n",
    "        penalty = 0\n",
    "        if config[\"use_transaction_cost\"]:\n",
    "            penalty = alpha * np.sum(transaction_costs * np.abs(weights - w_old))\n",
    "\n",
    "        return -sharpe + penalty  \n",
    "\n",
    "    res = minimize(\n",
    "        objective,\n",
    "        x0=np.ones(len(expected_returns_1d)) / len(expected_returns_1d),\n",
    "        bounds=[(0.05, 0.3)] * len(expected_returns_1d),\n",
    "        constraints=config[\"constraints\"],\n",
    "        method='SLSQP',\n",
    "        args=(risk_free_rate)\n",
    "    )\n",
    "\n",
    "    if res.success:\n",
    "        w_opt = res.x\n",
    "        port_ret = np.dot(w_opt, expected_returns_1d)\n",
    "        port_vol = np.sqrt(np.dot(w_opt.T, np.dot(cov_matrix, w_opt)))\n",
    "        sharpe = (port_ret - risk_free_rate)/ port_vol\n",
    "        cost = np.sum(transaction_costs * np.abs(w_opt - w_old)) if config[\"use_transaction_cost\"] else 0\n",
    "\n",
    "        results[name] = {\n",
    "            \"weights\": w_opt,\n",
    "            \"return\": port_ret,\n",
    "            \"volatility\": port_vol,\n",
    "            \"sharpe\": sharpe,\n",
    "            \"transaction_cost\": cost\n",
    "        }\n",
    "    else:\n",
    "        print(f\"Optimization failed for strategy {name}\")\n",
    "results"
   ]
  },
  {
   "cell_type": "code",
   "execution_count": 37,
   "id": "19cf9167",
   "metadata": {},
   "outputs": [
    {
     "name": "stdout",
     "output_type": "stream",
     "text": [
      "             Expected Return  Volatility  Sharpe Ratio  Transaction Cost\n",
      "base                0.226615    0.171005      0.974329      0.000000e+00\n",
      "sector_only         0.226483    0.171002      0.973576      0.000000e+00\n",
      "tc_only             0.226615    0.171005      0.974329      1.819562e-07\n",
      "combined            0.226481    0.170999      0.973576      2.741636e-04\n"
     ]
    }
   ],
   "source": [
    "import pandas as pd\n",
    "\n",
    "summary_df = pd.DataFrame.from_dict(results, orient='index')\n",
    "summary_df = summary_df[['return', 'volatility', 'sharpe', 'transaction_cost']]\n",
    "summary_df.columns = ['Expected Return', 'Volatility', 'Sharpe Ratio', 'Transaction Cost']\n",
    "summary_df.to_csv(\"../Reports/Strategy_comparison.csv\")\n",
    "print(summary_df)"
   ]
  }
 ],
 "metadata": {
  "kernelspec": {
   "display_name": "venv",
   "language": "python",
   "name": "python3"
  },
  "language_info": {
   "codemirror_mode": {
    "name": "ipython",
    "version": 3
   },
   "file_extension": ".py",
   "mimetype": "text/x-python",
   "name": "python",
   "nbconvert_exporter": "python",
   "pygments_lexer": "ipython3",
   "version": "3.12.4"
  }
 },
 "nbformat": 4,
 "nbformat_minor": 5
}
