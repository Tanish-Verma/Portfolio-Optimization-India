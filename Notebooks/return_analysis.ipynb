{
 "cells": [
  {
   "cell_type": "markdown",
   "id": "cc8a65c5",
   "metadata": {},
   "source": [
    "**Notebook 3  Daily Returns, Expected Returns, and Annualized Covariance Matrix: Validated, Visualized, and Stored!**"
   ]
  },
  {
   "cell_type": "code",
   "execution_count": 1,
   "id": "216a72fa",
   "metadata": {},
   "outputs": [
    {
     "data": {
      "application/vnd.microsoft.datawrangler.viewer.v0+json": {
       "columns": [
        {
         "name": "Date",
         "rawType": "object",
         "type": "string"
        },
        {
         "name": "HDFCBANK.NS",
         "rawType": "float64",
         "type": "float"
        },
        {
         "name": "ICICIBANK.NS",
         "rawType": "float64",
         "type": "float"
        },
        {
         "name": "INFY.NS",
         "rawType": "float64",
         "type": "float"
        },
        {
         "name": "RELIANCE.NS",
         "rawType": "float64",
         "type": "float"
        },
        {
         "name": "TCS.NS",
         "rawType": "float64",
         "type": "float"
        }
       ],
       "ref": "cac883b7-dafd-4ce4-98f7-3cd478d4cb4f",
       "rows": [
        [
         "2020-06-04",
         "-0.0201027550023497",
         "-0.0252206707788",
         "0.0088377306975757",
         "0.0247460299061887",
         "0.022187812616105"
        ],
        [
         "2020-06-05",
         "0.0315962010093666",
         "0.0268793849104085",
         "-0.0059343349364366",
         "0.0012027531668987",
         "-0.0207021958302471"
        ],
        [
         "2020-06-08",
         "-0.0168867248071196",
         "0.0072788266500234",
         "0.0245895637840594",
         "-0.007713207387061",
         "0.0114731161250294"
        ],
        [
         "2020-06-09",
         "-0.028152435333043",
         "-0.0312673586076546",
         "-0.0045085658503135",
         "-0.0206116978970133",
         "0.0001449587976702"
        ],
        [
         "2020-06-10",
         "0.004608546882614",
         "0.0127670713764811",
         "-0.0024386915671075",
         "0.0227694724102902",
         "0.0177117902604293"
        ],
        [
         "2020-06-11",
         "-0.0234411272797365",
         "-0.0332859613041895",
         "-0.0166234904976305",
         "-0.0219126881988177",
         "-0.0194902648977072"
        ],
        [
         "2020-06-12",
         "0.014608761909463",
         "0.0086445806900323",
         "-0.0169047923317742",
         "0.0332314652789611",
         "-0.0136142616467817"
        ],
        [
         "2020-06-15",
         "-0.0334775077270942",
         "-0.038059157447479",
         "-0.0065022009468884",
         "0.0162072061788607",
         "-0.0047071776764622"
        ],
        [
         "2020-06-16",
         "0.0426910139111622",
         "0.0357898316471314",
         "0.0198529980856734",
         "0.0019509422475405",
         "0.0078329283427087"
        ],
        [
         "2020-06-17",
         "-0.0112579865428514",
         "-0.0029159363435155",
         "0.0034939426390947",
         "-0.001452702711045",
         "0.0009775455468294"
        ],
        [
         "2020-06-18",
         "0.0415623940067761",
         "0.0293902303237365",
         "0.0145668333396515",
         "0.0251029763185379",
         "-0.0047366313149593"
        ],
        [
         "2020-06-19",
         "0.0131377691992222",
         "0.0335226659156697",
         "-0.0116962721028001",
         "0.0625037944381476",
         "0.0031891254010356"
        ],
        [
         "2020-06-22",
         "-0.0044514720086216",
         "0.0103078577953708",
         "-0.0026220232787752",
         "-0.0075309953788845",
         "-0.0081432576744235"
        ],
        [
         "2020-06-23",
         "0.01317124334468",
         "0.0233981632006143",
         "0.0240868925224222",
         "-0.0144603935212739",
         "0.0036244180044873"
        ],
        [
         "2020-06-24",
         "-0.0094021481805636",
         "-0.0745711895017094",
         "-0.0090194461328456",
         "0.0040385725265184",
         "0.0033900301311586"
        ],
        [
         "2020-06-25",
         "-0.0036320175444267",
         "0.0083308215029946",
         "-0.0191136278073783",
         "-0.0057585681483095",
         "-0.0127805521880514"
        ],
        [
         "2020-06-26",
         "0.0269258440279605",
         "-0.0054130202226438",
         "0.0680941224790581",
         "0.0138249615880707",
         "0.050964857795918"
        ],
        [
         "2020-06-29",
         "0.0185527935171503",
         "-0.01718713450712",
         "-0.0219860905160559",
         "-0.0106220548923906",
         "-0.0081177578809171"
        ],
        [
         "2020-06-30",
         "-0.0094791397947557",
         "0.0243370348694429",
         "0.0057397002552415",
         "-0.0110553117957712",
         "-0.0092782081876143"
        ],
        [
         "2020-07-01",
         "0.0175915684069856",
         "0.0358513311335386",
         "-0.0055031543947473",
         "0.0196583797157545",
         "0.0047544717814669"
        ],
        [
         "2020-07-02",
         "0.0044257244692536",
         "-0.0032961806311114",
         "0.0337476836383958",
         "0.0130928763077378",
         "0.0311179736777722"
        ],
        [
         "2020-07-03",
         "-0.0141822299000839",
         "-0.0050985177848388",
         "0.008062578067888",
         "0.0156502131744171",
         "0.0197019209151334"
        ],
        [
         "2020-07-06",
         "0.027049629290557",
         "0.0023545928133876",
         "0.001704292189663",
         "0.0357403280794339",
         "0.0288910577548711"
        ],
        [
         "2020-07-07",
         "0.0019493550435079",
         "0.0392427518677969",
         "0.0394634530162887",
         "-0.0153094876874146",
         "0.0029602365697081"
        ],
        [
         "2020-07-08",
         "0.0047050647446915",
         "-0.0188803716624067",
         "-0.0244916579558386",
         "-0.0139569941642062",
         "-0.0224676047655968"
        ],
        [
         "2020-07-09",
         "0.0131490644932541",
         "0.0037944427211935",
         "0.0090357823763242",
         "0.0145994082862146",
         "-0.0065573249604425"
        ],
        [
         "2020-07-10",
         "-0.0176453120907756",
         "-0.0270013618536901",
         "0.00019186267229",
         "0.0294916428034213",
         "0.0081655405785669"
        ],
        [
         "2020-07-13",
         "-0.0224864265277743",
         "-0.0187318657730064",
         "0.0194410817377508",
         "0.0303240167630767",
         "-0.0010575342820108"
        ],
        [
         "2020-07-14",
         "-0.0198103220826054",
         "-0.0227659570323188",
         "-0.0173139882610343",
         "-0.0093022778920387",
         "-0.0216440783054502"
        ],
        [
         "2020-07-15",
         "-0.0053832438878127",
         "0.0007235444817657",
         "0.0609002881715188",
         "-0.0380803413190843",
         "0.0285226532707685"
        ],
        [
         "2020-07-16",
         "0.0089257905898167",
         "-0.003325626538514",
         "0.0963355482796801",
         "-0.0003254477307259",
         "0.0026247040948843"
        ],
        [
         "2020-07-17",
         "0.0337865459844175",
         "0.0265486082480876",
         "-0.0086169953950316",
         "0.0370512160878271",
         "-0.0152144256191573"
        ],
        [
         "2020-07-20",
         "0.0314989980748683",
         "0.0260035194689431",
         "0.0344903763425588",
         "0.004289252219537",
         "0.0032490669597564"
        ],
        [
         "2020-07-21",
         "0.0048540649370909",
         "0.0435260772706067",
         "0.0026223064439372",
         "0.0269024884404753",
         "0.0077673360267696"
        ],
        [
         "2020-07-22",
         "-0.0107154320851149",
         "0.0060718973081697",
         "-0.0201226915606401",
         "0.0164591613184617",
         "-0.0153254431430182"
        ],
        [
         "2020-07-23",
         "0.0035957094888008",
         "0.0292573781831275",
         "-0.0108400280378785",
         "0.0268463024715437",
         "-0.0090140459641756"
        ],
        [
         "2020-07-24",
         "-0.0099965926587037",
         "-0.0266411514450217",
         "0.0164106522867415",
         "0.0429342126241856",
         "-0.0063561609694932"
        ],
        [
         "2020-07-27",
         "-0.0353855682740235",
         "-0.0610267008012922",
         "0.0277401614569097",
         "0.0046827762790542",
         "0.0228981632421307"
        ],
        [
         "2020-07-28",
         "0.0066235985517371",
         "-0.0178521598118491",
         "0.0151826262306515",
         "0.0099712442178894",
         "0.0466509023414889"
        ],
        [
         "2020-07-29",
         "-0.0202918516991195",
         "-0.0029822661167402",
         "-0.0090355442740821",
         "-0.0372181580230113",
         "-0.0145902010731303"
        ],
        [
         "2020-07-30",
         "-0.0131034167675216",
         "-0.0173761934509995",
         "0.0076507652048938",
         "0.0058187967145262",
         "0.0015157496624897"
        ],
        [
         "2020-07-31",
         "-0.0169894245221174",
         "0.0053629056524546",
         "0.0047323637825502",
         "-0.019797492837011",
         "0.0008338189859098"
        ],
        [
         "2020-08-03",
         "-0.0298219460535336",
         "-0.0102363958554593",
         "-0.0094203593288495",
         "-0.0281070432609495",
         "-0.0119448086274914"
        ],
        [
         "2020-08-04",
         "0.0395709448344501",
         "0.0225782563712237",
         "-0.007367579067977",
         "0.0704828059848967",
         "-0.0019740391615089"
        ],
        [
         "2020-08-05",
         "-0.0135362235847282",
         "0.003418909246095",
         "-0.0054218205782878",
         "-0.0112294386896633",
         "0.0043563709384368"
        ],
        [
         "2020-08-06",
         "0.0127973065049731",
         "0.0185972429339316",
         "0.0276807207457956",
         "0.0035975315718586",
         "0.0215090182257662"
        ],
        [
         "2020-08-07",
         "0.0030269245753518",
         "-0.0022298015225281",
         "-0.0205490076235288",
         "0.0057870041793088",
         "-0.0055237511805754"
        ],
        [
         "2020-08-10",
         "0.0065143234777735",
         "0.015644542228665",
         "0.0004733129228167",
         "-0.0123925863463995",
         "-0.00546779550136"
        ],
        [
         "2020-08-11",
         "0.0152286905715226",
         "0.0104524899270697",
         "-0.0030483268929138",
         "0.0065806664609751",
         "-0.0012705504422748"
        ],
        [
         "2020-08-12",
         "-0.0027657603635544",
         "-0.0013611276468217",
         "0.0068532862232086",
         "-0.0029055781334186",
         "-0.0098906814731691"
        ]
       ],
       "shape": {
        "columns": 5,
        "rows": 1239
       }
      },
      "text/html": [
       "<div>\n",
       "<style scoped>\n",
       "    .dataframe tbody tr th:only-of-type {\n",
       "        vertical-align: middle;\n",
       "    }\n",
       "\n",
       "    .dataframe tbody tr th {\n",
       "        vertical-align: top;\n",
       "    }\n",
       "\n",
       "    .dataframe thead th {\n",
       "        text-align: right;\n",
       "    }\n",
       "</style>\n",
       "<table border=\"1\" class=\"dataframe\">\n",
       "  <thead>\n",
       "    <tr style=\"text-align: right;\">\n",
       "      <th></th>\n",
       "      <th>HDFCBANK.NS</th>\n",
       "      <th>ICICIBANK.NS</th>\n",
       "      <th>INFY.NS</th>\n",
       "      <th>RELIANCE.NS</th>\n",
       "      <th>TCS.NS</th>\n",
       "    </tr>\n",
       "    <tr>\n",
       "      <th>Date</th>\n",
       "      <th></th>\n",
       "      <th></th>\n",
       "      <th></th>\n",
       "      <th></th>\n",
       "      <th></th>\n",
       "    </tr>\n",
       "  </thead>\n",
       "  <tbody>\n",
       "    <tr>\n",
       "      <th>2020-06-04</th>\n",
       "      <td>-0.020103</td>\n",
       "      <td>-0.025221</td>\n",
       "      <td>0.008838</td>\n",
       "      <td>0.024746</td>\n",
       "      <td>0.022188</td>\n",
       "    </tr>\n",
       "    <tr>\n",
       "      <th>2020-06-05</th>\n",
       "      <td>0.031596</td>\n",
       "      <td>0.026879</td>\n",
       "      <td>-0.005934</td>\n",
       "      <td>0.001203</td>\n",
       "      <td>-0.020702</td>\n",
       "    </tr>\n",
       "    <tr>\n",
       "      <th>2020-06-08</th>\n",
       "      <td>-0.016887</td>\n",
       "      <td>0.007279</td>\n",
       "      <td>0.024590</td>\n",
       "      <td>-0.007713</td>\n",
       "      <td>0.011473</td>\n",
       "    </tr>\n",
       "    <tr>\n",
       "      <th>2020-06-09</th>\n",
       "      <td>-0.028152</td>\n",
       "      <td>-0.031267</td>\n",
       "      <td>-0.004509</td>\n",
       "      <td>-0.020612</td>\n",
       "      <td>0.000145</td>\n",
       "    </tr>\n",
       "    <tr>\n",
       "      <th>2020-06-10</th>\n",
       "      <td>0.004609</td>\n",
       "      <td>0.012767</td>\n",
       "      <td>-0.002439</td>\n",
       "      <td>0.022769</td>\n",
       "      <td>0.017712</td>\n",
       "    </tr>\n",
       "    <tr>\n",
       "      <th>...</th>\n",
       "      <td>...</td>\n",
       "      <td>...</td>\n",
       "      <td>...</td>\n",
       "      <td>...</td>\n",
       "      <td>...</td>\n",
       "    </tr>\n",
       "    <tr>\n",
       "      <th>2025-05-28</th>\n",
       "      <td>-0.001454</td>\n",
       "      <td>0.005116</td>\n",
       "      <td>0.001083</td>\n",
       "      <td>-0.006469</td>\n",
       "      <td>-0.000286</td>\n",
       "    </tr>\n",
       "    <tr>\n",
       "      <th>2025-05-29</th>\n",
       "      <td>0.002080</td>\n",
       "      <td>0.001857</td>\n",
       "      <td>0.008780</td>\n",
       "      <td>0.003468</td>\n",
       "      <td>0.000114</td>\n",
       "    </tr>\n",
       "    <tr>\n",
       "      <th>2025-05-30</th>\n",
       "      <td>0.009027</td>\n",
       "      <td>-0.007346</td>\n",
       "      <td>-0.000576</td>\n",
       "      <td>0.002186</td>\n",
       "      <td>-0.009920</td>\n",
       "    </tr>\n",
       "    <tr>\n",
       "      <th>2025-06-02</th>\n",
       "      <td>-0.006581</td>\n",
       "      <td>0.003251</td>\n",
       "      <td>-0.005695</td>\n",
       "      <td>-0.005067</td>\n",
       "      <td>-0.003927</td>\n",
       "    </tr>\n",
       "    <tr>\n",
       "      <th>2025-06-03</th>\n",
       "      <td>-0.003882</td>\n",
       "      <td>-0.008687</td>\n",
       "      <td>-0.006951</td>\n",
       "      <td>-0.005800</td>\n",
       "      <td>-0.012928</td>\n",
       "    </tr>\n",
       "  </tbody>\n",
       "</table>\n",
       "<p>1239 rows × 5 columns</p>\n",
       "</div>"
      ],
      "text/plain": [
       "            HDFCBANK.NS  ICICIBANK.NS   INFY.NS  RELIANCE.NS    TCS.NS\n",
       "Date                                                                  \n",
       "2020-06-04    -0.020103     -0.025221  0.008838     0.024746  0.022188\n",
       "2020-06-05     0.031596      0.026879 -0.005934     0.001203 -0.020702\n",
       "2020-06-08    -0.016887      0.007279  0.024590    -0.007713  0.011473\n",
       "2020-06-09    -0.028152     -0.031267 -0.004509    -0.020612  0.000145\n",
       "2020-06-10     0.004609      0.012767 -0.002439     0.022769  0.017712\n",
       "...                 ...           ...       ...          ...       ...\n",
       "2025-05-28    -0.001454      0.005116  0.001083    -0.006469 -0.000286\n",
       "2025-05-29     0.002080      0.001857  0.008780     0.003468  0.000114\n",
       "2025-05-30     0.009027     -0.007346 -0.000576     0.002186 -0.009920\n",
       "2025-06-02    -0.006581      0.003251 -0.005695    -0.005067 -0.003927\n",
       "2025-06-03    -0.003882     -0.008687 -0.006951    -0.005800 -0.012928\n",
       "\n",
       "[1239 rows x 5 columns]"
      ]
     },
     "execution_count": 1,
     "metadata": {},
     "output_type": "execute_result"
    }
   ],
   "source": [
    "#importing the data\n",
    "import pandas as pd\n",
    "\n",
    "\n",
    "\n",
    "daily_return = pd.read_csv(\"../Data/daily_returns.csv\",index_col=\"Date\")\n",
    "daily_return"
   ]
  },
  {
   "cell_type": "code",
   "execution_count": 2,
   "id": "b5f29396",
   "metadata": {},
   "outputs": [
    {
     "name": "stdout",
     "output_type": "stream",
     "text": [
      "              Mean Annual Return\n",
      "HDFCBANK.NS             0.163487\n",
      "ICICIBANK.NS            0.320461\n",
      "INFY.NS                 0.214204\n",
      "RELIANCE.NS             0.170274\n",
      "TCS.NS                  0.146823\n"
     ]
    }
   ],
   "source": [
    "#calculating the mean daily returns and annualizing them\n",
    "meanDailyReturns = daily_return.mean()\n",
    "meanAnnualReturns = meanDailyReturns*252\n",
    "meanAnnualReturns = meanAnnualReturns.to_frame(name=\"Mean Annual Return\")\n",
    "print(meanAnnualReturns)"
   ]
  },
  {
   "cell_type": "code",
   "execution_count": 3,
   "id": "9f83488a",
   "metadata": {},
   "outputs": [
    {
     "name": "stdout",
     "output_type": "stream",
     "text": [
      "              HDFCBANK.NS  ICICIBANK.NS   INFY.NS  RELIANCE.NS    TCS.NS\n",
      "HDFCBANK.NS      0.053002      0.031753  0.014150     0.019199  0.010358\n",
      "ICICIBANK.NS     0.031753      0.063636  0.015490     0.019863  0.009892\n",
      "INFY.NS          0.014150      0.015490  0.063522     0.015212  0.037672\n",
      "RELIANCE.NS      0.019199      0.019863  0.015212     0.060917  0.014723\n",
      "TCS.NS           0.010358      0.009892  0.037672     0.014723  0.047443\n"
     ]
    },
    {
     "data": {
      "application/vnd.microsoft.datawrangler.viewer.v0+json": {
       "columns": [
        {
         "name": "index",
         "rawType": "object",
         "type": "string"
        },
        {
         "name": "0",
         "rawType": "float64",
         "type": "float"
        }
       ],
       "ref": "e1e6a868-f029-4eda-9077-0d7dee32fd54",
       "rows": [
        [
         "HDFCBANK.NS",
         "0.05300210706699652"
        ],
        [
         "ICICIBANK.NS",
         "0.06363619515898133"
        ],
        [
         "INFY.NS",
         "0.06352189341790823"
        ],
        [
         "RELIANCE.NS",
         "0.06091661821678031"
        ],
        [
         "TCS.NS",
         "0.04744318279211655"
        ]
       ],
       "shape": {
        "columns": 1,
        "rows": 5
       }
      },
      "text/plain": [
       "HDFCBANK.NS     0.053002\n",
       "ICICIBANK.NS    0.063636\n",
       "INFY.NS         0.063522\n",
       "RELIANCE.NS     0.060917\n",
       "TCS.NS          0.047443\n",
       "dtype: float64"
      ]
     },
     "execution_count": 3,
     "metadata": {},
     "output_type": "execute_result"
    }
   ],
   "source": [
    "#calculating the covariance matrix of daily returns and annualizing it\n",
    "daily_covmatrix = daily_return.cov()\n",
    "annual_covmatrix = daily_covmatrix * 252\n",
    "print(annual_covmatrix)\n",
    "\n",
    "\n",
    "daily_return.var()*252"
   ]
  },
  {
   "cell_type": "code",
   "execution_count": 4,
   "id": "fc88eade",
   "metadata": {},
   "outputs": [],
   "source": [
    "#saving the results to csv files\n",
    "annual_covmatrix.to_csv(\"../Reports/cov_matrix.csv\")\n",
    "meanAnnualReturns.to_csv(\"../Reports/expected_returns.csv\")"
   ]
  },
  {
   "cell_type": "code",
   "execution_count": 5,
   "id": "d0f1824c",
   "metadata": {},
   "outputs": [
    {
     "data": {
      "image/png": "[encoded data removed]",
      "text/plain": [
       "<Figure size 1000x700 with 2 Axes>"
      ]
     },
     "metadata": {},
     "output_type": "display_data"
    }
   ],
   "source": [
    "# Visualizing the annual covariance matrix using a heatmap\n",
    "import seaborn as sb\n",
    "import matplotlib.pyplot as plt\n",
    "\n",
    "# Create a heatmap of the annual covariance matrix\n",
    "plt.figure(figsize=(10,7))\n",
    "sb.heatmap(annual_covmatrix, annot=True, cmap=\"YlGnBu\")  # annot=True shows values, cmap sets the color\n",
    "plt.title(\"Annual Covariance Matrix Heatmap\")\n",
    "plt.savefig(\"../Reports/Charts/Annual_Cov_Matrix_Heatmap.png\", dpi=600)\n",
    "plt.show()"
   ]
  }
 ],
 "metadata": {
  "kernelspec": {
   "display_name": "venv",
   "language": "python",
   "name": "python3"
  },
  "language_info": {
   "codemirror_mode": {
    "name": "ipython",
    "version": 3
   },
   "file_extension": ".py",
   "mimetype": "text/x-python",
   "name": "python",
   "nbconvert_exporter": "python",
   "pygments_lexer": "ipython3",
   "version": "3.12.4"
  }
 },
 "nbformat": 4,
 "nbformat_minor": 5
}
