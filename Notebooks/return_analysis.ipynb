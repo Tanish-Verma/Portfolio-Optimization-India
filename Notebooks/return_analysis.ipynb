{
 "cells": [
  {
   "cell_type": "markdown",
   "id": "cc8a65c5",
   "metadata": {},
   "source": [
    "**Day 3  Daily Returns, Expected Returns, and Annualized Covariance Matrix: Validated, Visualized, and Stored!**"
   ]
  },
  {
   "cell_type": "code",
   "execution_count": 1,
   "id": "216a72fa",
   "metadata": {},
   "outputs": [
    {
     "data": {
      "application/vnd.microsoft.datawrangler.viewer.v0+json": {
       "columns": [
        {
         "name": "Date",
         "rawType": "object",
         "type": "string"
        },
        {
         "name": "HDFCBANK.NS",
         "rawType": "float64",
         "type": "float"
        },
        {
         "name": "ICICIBANK.NS",
         "rawType": "float64",
         "type": "float"
        },
        {
         "name": "INFY.NS",
         "rawType": "float64",
         "type": "float"
        },
        {
         "name": "RELIANCE.NS",
         "rawType": "float64",
         "type": "float"
        },
        {
         "name": "TCS.NS",
         "rawType": "float64",
         "type": "float"
        }
       ],
       "ref": "73a02267-49af-4f7f-9204-015e7684dcf2",
       "rows": [
        [
         "2020-06-04",
         "-0.020102694056807",
         "-0.0252207478958528",
         "0.0088376337001034",
         "0.0247462689027011",
         "0.0221880742288229"
        ],
        [
         "2020-06-05",
         "0.0315962010093666",
         "0.0268795256478486",
         "-0.0059342393592559",
         "0.0012025836714921",
         "-0.0207025414694261"
        ],
        [
         "2020-06-08",
         "-0.0168867248071196",
         "0.0072787266651872",
         "0.0245894670623358",
         "-0.0077131787467942",
         "0.0114732277853939"
        ],
        [
         "2020-06-09",
         "-0.0281523727484326",
         "-0.0312673677619591",
         "-0.0045084718754578",
         "-0.0206117439925866",
         "0.0001448968510697"
        ],
        [
         "2020-06-10",
         "0.0046085465858347",
         "0.0127671927456085",
         "-0.002438881223099",
         "0.022769527037155",
         "0.0177117839402529"
        ],
        [
         "2020-06-11",
         "-0.0234411257771102",
         "-0.0332860496245519",
         "-0.0166234936580831",
         "-0.0219126843954896",
         "-0.0194901970461693"
        ],
        [
         "2020-06-12",
         "0.0146086953096999",
         "0.0086446290701811",
         "-0.0169046022664878",
         "0.03323150626403",
         "-0.0136146395337025"
        ],
        [
         "2020-06-15",
         "-0.0334774430313822",
         "-0.038059298538701",
         "-0.0065024959338505",
         "0.0162070924304309",
         "-0.0047069359893829"
        ],
        [
         "2020-06-16",
         "0.0426910110535716",
         "0.0357897615388926",
         "0.0198533998706031",
         "0.0019510352761689",
         "0.0078329842063133"
        ],
        [
         "2020-06-17",
         "-0.0112581142121052",
         "-0.0029157417466942",
         "0.0034938452541564",
         "-0.0014526566844774",
         "0.0009774473062524"
        ],
        [
         "2020-06-18",
         "0.0415623967052953",
         "0.0293902152144667",
         "0.0145669300476345",
         "0.0251028740833803",
         "-0.0047365259274918"
        ],
        [
         "2020-06-19",
         "0.0131378323542823",
         "0.0335225869314208",
         "-0.0116963663073885",
         "0.0625037703492867",
         "0.003189098922518"
        ],
        [
         "2020-06-22",
         "-0.0044514720086216",
         "0.0103078612595872",
         "-0.0026220232787752",
         "-0.0075309477389485",
         "-0.0081434579141156"
        ],
        [
         "2020-06-23",
         "0.0131713051475552",
         "0.0233981755179684",
         "0.0240869892235315",
         "-0.0144604399521078",
         "0.0036244692340974"
        ],
        [
         "2020-06-24",
         "-0.009402330605337",
         "-0.0745711588691876",
         "-0.0090194452811694",
         "0.0040385817749089",
         "0.0033900764840901"
        ],
        [
         "2020-06-25",
         "-0.0036318948349073",
         "0.0083307697498111",
         "-0.0191138165582819",
         "-0.0057586012556762",
         "-0.0127802439724815"
        ],
        [
         "2020-06-26",
         "0.0269259058308355",
         "-0.0054129805940571",
         "0.0680943233796231",
         "0.013824997431195",
         "0.0509645056582956"
        ],
        [
         "2020-06-29",
         "0.0185527322181893",
         "-0.0171871584740223",
         "-0.0219862704158192",
         "-0.0106220480554347",
         "-0.0081174516434505"
        ],
        [
         "2020-06-30",
         "-0.0094791988809546",
         "0.0243370056624798",
         "0.0057397007890007",
         "-0.0110552783317942",
         "-0.0092783189518731"
        ],
        [
         "2020-07-01",
         "0.0175916291080002",
         "0.0358514792571986",
         "-0.0055031549035886",
         "0.0196584151054146",
         "0.0047545642448263"
        ],
        [
         "2020-07-02",
         "0.0044257244692536",
         "-0.0032962882827882",
         "0.0337476867760948",
         "0.0172154212211295",
         "0.0311177593223344"
        ],
        [
         "2020-07-03",
         "-0.0141823466243347",
         "-0.0050983847835341",
         "0.0080626687330074",
         "0.015650219974352",
         "0.0197020638110443"
        ],
        [
         "2020-07-06",
         "0.0270498693003076",
         "0.0023544698371977",
         "0.0017044706308932",
         "0.0357403950714472",
         "0.0288907731123448"
        ],
        [
         "2020-07-07",
         "0.0019492395337319",
         "0.0392426334887747",
         "0.0394633569175639",
         "-0.0153095174256564",
         "0.002960630844657"
        ],
        [
         "2020-07-08",
         "0.0047050647446915",
         "-0.0188803161702006",
         "-0.0244916558572148",
         "-0.013957035711398",
         "-0.0224678019418079"
        ],
        [
         "2020-07-09",
         "0.0131490644932541",
         "0.0037945812599231",
         "0.0090355180668197",
         "0.0145995501380651",
         "-0.006557356096401"
        ],
        [
         "2020-07-10",
         "-0.0176453120907756",
         "-0.0270015090770948",
         "0.0001922109138714",
         "0.0294915661098975",
         "0.0081656855868472"
        ],
        [
         "2020-07-13",
         "-0.0224864265277743",
         "-0.0187317508911663",
         "0.0194407302123686",
         "0.0303240343315682",
         "-0.001057567130893"
        ],
        [
         "2020-07-14",
         "-0.0198103809390739",
         "-0.0227657878297178",
         "-0.0173137350907606",
         "-0.0093023537531946",
         "-0.0216442359329459"
        ],
        [
         "2020-07-15",
         "-0.0053832442110547",
         "0.0007233135930331",
         "0.060900282880516",
         "-0.0380803499100019",
         "0.0285231493172537"
        ],
        [
         "2020-07-16",
         "0.0089257911286755",
         "-0.0033255497368528",
         "0.0963353766055432",
         "-0.000325303569116",
         "0.002624408804384"
        ],
        [
         "2020-07-17",
         "0.033786368495392",
         "0.0265485298963052",
         "-0.0086169213421239",
         "0.03705108545068",
         "-0.0152145778991644"
        ],
        [
         "2020-07-20",
         "0.0314992368928945",
         "0.0260035442830144",
         "0.0344904516883755",
         "0.0042893021732846",
         "0.0032488907598691"
        ],
        [
         "2020-07-21",
         "0.0048540649370909",
         "0.0435260453031067",
         "0.0026222334191969",
         "0.0269024457008462",
         "0.0077674806097116"
        ],
        [
         "2020-07-22",
         "-0.0107154320851149",
         "0.0060719244896121",
         "-0.0201227642039003",
         "0.0164592479424083",
         "-0.0153252425413961"
        ],
        [
         "2020-07-23",
         "0.0035957094888008",
         "0.0292573711914703",
         "-0.0108397323012546",
         "0.0268462999434166",
         "-0.0090143146344093"
        ],
        [
         "2020-07-24",
         "-0.0099963676774362",
         "-0.0266411197112719",
         "0.0164104237545117",
         "0.0429341308567805",
         "-0.0063559899015799"
        ],
        [
         "2020-07-27",
         "-0.0353856738590337",
         "-0.0610267581578665",
         "0.0277401614569097",
         "0.0046828266176928",
         "0.0228982154152563"
        ],
        [
         "2020-07-28",
         "0.0066234799767803",
         "-0.0178522491347042",
         "0.0151825544835177",
         "0.009971241519046",
         "0.0466508961876799"
        ],
        [
         "2020-07-29",
         "-0.0202917346794649",
         "-0.0029821754494692",
         "-0.0090355449126612",
         "-0.0372181915701032",
         "-0.0145898905512611"
        ],
        [
         "2020-07-30",
         "-0.0131034152024054",
         "-0.0173762319607988",
         "0.0076506231134914",
         "0.0058188860597521",
         "0.0015155773010104"
        ],
        [
         "2020-07-31",
         "-0.016989482980532",
         "0.0053629475765879",
         "0.0047325771184787",
         "-0.0197976068918444",
         "0.0008333483623346"
        ],
        [
         "2020-08-03",
         "-0.0298219442176795",
         "-0.0102363648346862",
         "-0.009420288885196",
         "-0.0281069269099285",
         "-0.0119444260476223"
        ],
        [
         "2020-08-04",
         "0.0395708154179643",
         "0.0225782137767351",
         "-0.0073675785440422",
         "0.0704827232336411",
         "-0.0019741634467591"
        ],
        [
         "2020-08-05",
         "-0.0135362244109454",
         "0.0034188429324499",
         "-0.0054218918312484",
         "-0.0112294010550538",
         "0.0043561410838652"
        ],
        [
         "2020-08-06",
         "0.0127973691718574",
         "0.0185975385663448",
         "0.027680648713859",
         "0.003597518595906",
         "0.0215094911180413"
        ],
        [
         "2020-08-07",
         "0.0030268634821339",
         "-0.0022301078463329",
         "-0.0205489389720932",
         "0.005787044982433",
         "-0.005524056106608"
        ],
        [
         "2020-08-10",
         "0.0065145066011189",
         "0.0156446762344117",
         "0.0004732413605363",
         "-0.0123925538946164",
         "-0.0054677480900272"
        ],
        [
         "2020-08-11",
         "0.015228567699141",
         "0.0104525011556046",
         "-0.0030482555825257",
         "0.006580623856863",
         "-0.001270434210417"
        ],
        [
         "2020-08-12",
         "-0.0027657603635544",
         "-0.0013611225316225",
         "0.0068532862232086",
         "-0.0029056634628409",
         "-0.0098908231010604"
        ]
       ],
       "shape": {
        "columns": 5,
        "rows": 1239
       }
      },
      "text/html": [
       "<div>\n",
       "<style scoped>\n",
       "    .dataframe tbody tr th:only-of-type {\n",
       "        vertical-align: middle;\n",
       "    }\n",
       "\n",
       "    .dataframe tbody tr th {\n",
       "        vertical-align: top;\n",
       "    }\n",
       "\n",
       "    .dataframe thead th {\n",
       "        text-align: right;\n",
       "    }\n",
       "</style>\n",
       "<table border=\"1\" class=\"dataframe\">\n",
       "  <thead>\n",
       "    <tr style=\"text-align: right;\">\n",
       "      <th></th>\n",
       "      <th>HDFCBANK.NS</th>\n",
       "      <th>ICICIBANK.NS</th>\n",
       "      <th>INFY.NS</th>\n",
       "      <th>RELIANCE.NS</th>\n",
       "      <th>TCS.NS</th>\n",
       "    </tr>\n",
       "    <tr>\n",
       "      <th>Date</th>\n",
       "      <th></th>\n",
       "      <th></th>\n",
       "      <th></th>\n",
       "      <th></th>\n",
       "      <th></th>\n",
       "    </tr>\n",
       "  </thead>\n",
       "  <tbody>\n",
       "    <tr>\n",
       "      <th>2020-06-04</th>\n",
       "      <td>-0.020103</td>\n",
       "      <td>-0.025221</td>\n",
       "      <td>0.008838</td>\n",
       "      <td>0.024746</td>\n",
       "      <td>0.022188</td>\n",
       "    </tr>\n",
       "    <tr>\n",
       "      <th>2020-06-05</th>\n",
       "      <td>0.031596</td>\n",
       "      <td>0.026880</td>\n",
       "      <td>-0.005934</td>\n",
       "      <td>0.001203</td>\n",
       "      <td>-0.020703</td>\n",
       "    </tr>\n",
       "    <tr>\n",
       "      <th>2020-06-08</th>\n",
       "      <td>-0.016887</td>\n",
       "      <td>0.007279</td>\n",
       "      <td>0.024589</td>\n",
       "      <td>-0.007713</td>\n",
       "      <td>0.011473</td>\n",
       "    </tr>\n",
       "    <tr>\n",
       "      <th>2020-06-09</th>\n",
       "      <td>-0.028152</td>\n",
       "      <td>-0.031267</td>\n",
       "      <td>-0.004508</td>\n",
       "      <td>-0.020612</td>\n",
       "      <td>0.000145</td>\n",
       "    </tr>\n",
       "    <tr>\n",
       "      <th>2020-06-10</th>\n",
       "      <td>0.004609</td>\n",
       "      <td>0.012767</td>\n",
       "      <td>-0.002439</td>\n",
       "      <td>0.022770</td>\n",
       "      <td>0.017712</td>\n",
       "    </tr>\n",
       "    <tr>\n",
       "      <th>...</th>\n",
       "      <td>...</td>\n",
       "      <td>...</td>\n",
       "      <td>...</td>\n",
       "      <td>...</td>\n",
       "      <td>...</td>\n",
       "    </tr>\n",
       "    <tr>\n",
       "      <th>2025-05-28</th>\n",
       "      <td>-0.001454</td>\n",
       "      <td>0.005116</td>\n",
       "      <td>0.001083</td>\n",
       "      <td>-0.006469</td>\n",
       "      <td>-0.000286</td>\n",
       "    </tr>\n",
       "    <tr>\n",
       "      <th>2025-05-29</th>\n",
       "      <td>0.002080</td>\n",
       "      <td>0.001857</td>\n",
       "      <td>0.008780</td>\n",
       "      <td>0.003468</td>\n",
       "      <td>0.000114</td>\n",
       "    </tr>\n",
       "    <tr>\n",
       "      <th>2025-05-30</th>\n",
       "      <td>0.009027</td>\n",
       "      <td>-0.007346</td>\n",
       "      <td>-0.000576</td>\n",
       "      <td>0.002186</td>\n",
       "      <td>-0.009920</td>\n",
       "    </tr>\n",
       "    <tr>\n",
       "      <th>2025-06-02</th>\n",
       "      <td>-0.006581</td>\n",
       "      <td>0.003251</td>\n",
       "      <td>-0.005695</td>\n",
       "      <td>-0.005067</td>\n",
       "      <td>-0.003927</td>\n",
       "    </tr>\n",
       "    <tr>\n",
       "      <th>2025-06-03</th>\n",
       "      <td>-0.003882</td>\n",
       "      <td>-0.008687</td>\n",
       "      <td>-0.006951</td>\n",
       "      <td>-0.005800</td>\n",
       "      <td>-0.012928</td>\n",
       "    </tr>\n",
       "  </tbody>\n",
       "</table>\n",
       "<p>1239 rows × 5 columns</p>\n",
       "</div>"
      ],
      "text/plain": [
       "            HDFCBANK.NS  ICICIBANK.NS   INFY.NS  RELIANCE.NS    TCS.NS\n",
       "Date                                                                  \n",
       "2020-06-04    -0.020103     -0.025221  0.008838     0.024746  0.022188\n",
       "2020-06-05     0.031596      0.026880 -0.005934     0.001203 -0.020703\n",
       "2020-06-08    -0.016887      0.007279  0.024589    -0.007713  0.011473\n",
       "2020-06-09    -0.028152     -0.031267 -0.004508    -0.020612  0.000145\n",
       "2020-06-10     0.004609      0.012767 -0.002439     0.022770  0.017712\n",
       "...                 ...           ...       ...          ...       ...\n",
       "2025-05-28    -0.001454      0.005116  0.001083    -0.006469 -0.000286\n",
       "2025-05-29     0.002080      0.001857  0.008780     0.003468  0.000114\n",
       "2025-05-30     0.009027     -0.007346 -0.000576     0.002186 -0.009920\n",
       "2025-06-02    -0.006581      0.003251 -0.005695    -0.005067 -0.003927\n",
       "2025-06-03    -0.003882     -0.008687 -0.006951    -0.005800 -0.012928\n",
       "\n",
       "[1239 rows x 5 columns]"
      ]
     },
     "execution_count": 1,
     "metadata": {},
     "output_type": "execute_result"
    }
   ],
   "source": [
    "import pandas as pd\n",
    "\n",
    "\n",
    "\n",
    "daily_return = pd.read_csv(\"../Data/daily_returns.csv\",index_col=\"Date\")\n",
    "daily_return"
   ]
  },
  {
   "cell_type": "code",
   "execution_count": 2,
   "id": "b5f29396",
   "metadata": {},
   "outputs": [
    {
     "name": "stdout",
     "output_type": "stream",
     "text": [
      "              Mean Annual Return\n",
      "HDFCBANK.NS             0.163487\n",
      "ICICIBANK.NS            0.322150\n",
      "INFY.NS                 0.214204\n",
      "RELIANCE.NS             0.171169\n",
      "TCS.NS                  0.144119\n"
     ]
    }
   ],
   "source": [
    "meanDailyReturns = daily_return.mean()\n",
    "meanAnnualReturns = meanDailyReturns*252\n",
    "meanAnnualReturns = meanAnnualReturns.to_frame(name=\"Mean Annual Return\")\n",
    "print(meanAnnualReturns)"
   ]
  },
  {
   "cell_type": "code",
   "execution_count": 3,
   "id": "9f83488a",
   "metadata": {},
   "outputs": [
    {
     "name": "stdout",
     "output_type": "stream",
     "text": [
      "              HDFCBANK.NS  ICICIBANK.NS   INFY.NS  RELIANCE.NS    TCS.NS\n",
      "HDFCBANK.NS      0.053002      0.031751  0.014150     0.019204  0.010385\n",
      "ICICIBANK.NS     0.031751      0.063661  0.015485     0.019841  0.009939\n",
      "INFY.NS          0.014150      0.015485  0.063522     0.015261  0.037833\n",
      "RELIANCE.NS      0.019204      0.019841  0.015261     0.060963  0.014690\n",
      "TCS.NS           0.010385      0.009939  0.037833     0.014690  0.047503\n"
     ]
    },
    {
     "data": {
      "application/vnd.microsoft.datawrangler.viewer.v0+json": {
       "columns": [
        {
         "name": "index",
         "rawType": "object",
         "type": "string"
        },
        {
         "name": "0",
         "rawType": "float64",
         "type": "float"
        }
       ],
       "ref": "50cd17fa-9440-4dbd-af91-4cc17fd48c47",
       "rows": [
        [
         "HDFCBANK.NS",
         "0.053002109832087606"
        ],
        [
         "ICICIBANK.NS",
         "0.06366062813421038"
        ],
        [
         "INFY.NS",
         "0.06352186662254264"
        ],
        [
         "RELIANCE.NS",
         "0.06096299443362207"
        ],
        [
         "TCS.NS",
         "0.04750316997678681"
        ]
       ],
       "shape": {
        "columns": 1,
        "rows": 5
       }
      },
      "text/plain": [
       "HDFCBANK.NS     0.053002\n",
       "ICICIBANK.NS    0.063661\n",
       "INFY.NS         0.063522\n",
       "RELIANCE.NS     0.060963\n",
       "TCS.NS          0.047503\n",
       "dtype: float64"
      ]
     },
     "execution_count": 3,
     "metadata": {},
     "output_type": "execute_result"
    }
   ],
   "source": [
    "daily_covmatrix = daily_return.cov()\n",
    "annual_covmatrix = daily_covmatrix * 252\n",
    "print(annual_covmatrix)\n",
    "\n",
    "\n",
    "daily_return.var()*252"
   ]
  },
  {
   "cell_type": "code",
   "execution_count": 4,
   "id": "fc88eade",
   "metadata": {},
   "outputs": [],
   "source": [
    "annual_covmatrix.to_csv(\"../Reports/cov_matrix.csv\")\n",
    "meanAnnualReturns.to_csv(\"../Reports/expected_returns.csv\")"
   ]
  },
  {
   "cell_type": "code",
   "execution_count": 5,
   "id": "d0f1824c",
   "metadata": {},
   "outputs": [
    {
     "data": {
      "image/png": "[encoded data removed]",
      "text/plain": [
       "<Figure size 1000x700 with 2 Axes>"
      ]
     },
     "metadata": {},
     "output_type": "display_data"
    }
   ],
   "source": [
    "import seaborn as sb\n",
    "import matplotlib.pyplot as plt\n",
    "\n",
    "# Create a heatmap of the annual covariance matrix\n",
    "plt.figure(figsize=(10,7))\n",
    "sb.heatmap(annual_covmatrix, annot=True, cmap=\"YlGnBu\")  # annot=True shows values, cmap sets the color\n",
    "plt.title(\"Annual Covariance Matrix Heatmap\")\n",
    "plt.savefig(\"../Reports/Charts/Annual_Cov_Matrix_Heatmap.png\", dpi=600)\n",
    "plt.show()"
   ]
  }
 ],
 "metadata": {
  "kernelspec": {
   "display_name": "venv",
   "language": "python",
   "name": "python3"
  },
  "language_info": {
   "codemirror_mode": {
    "name": "ipython",
    "version": 3
   },
   "file_extension": ".py",
   "mimetype": "text/x-python",
   "name": "python",
   "nbconvert_exporter": "python",
   "pygments_lexer": "ipython3",
   "version": "3.12.4"
  }
 },
 "nbformat": 4,
 "nbformat_minor": 5
}
