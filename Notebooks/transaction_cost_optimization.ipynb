{
 "cells": [
  {
   "cell_type": "markdown",
   "id": "a3a7f037",
   "metadata": {},
   "source": [
    "#  Portfolio Optimization with Transaction Costs\n",
    "\n",
    "##  Overview\n",
    "\n",
    "In real-world investing, every time you buy or sell stocks, you pay a **transaction cost**—something most theoretical portfolio optimizations ignore. This notebook explores how these costs can impact your portfolio, making our optimization approach more practical and realistic.\n",
    "\n",
    "---\n",
    "\n",
    "## Why Transaction Costs Matter\n",
    "\n",
    "- **Every trade has a price:** Even small costs can add up and eat into your returns.\n",
    "- **Frequent rebalancing = higher costs:** The more you change your portfolio, the more you pay.\n",
    "- **Realistic investing:** Factoring in these costs helps you make smarter, more efficient decisions.\n",
    "\n",
    "---\n",
    "\n",
    "## What We Explore Here\n",
    "\n",
    "- **Simulate transaction costs:** We add a penalty for changing your portfolio too much.\n",
    "- **Compare portfolios:** See how a new optimized portfolio stacks up against your current one when costs are included.\n",
    "- **Balance returns and costs:** By tuning a parameter (alpha), you can decide how much you care about maximizing returns vs. minimizing costs.\n",
    "- **Visualize the trade-off:** See how your Sharpe ratio and turnover change as you adjust your sensitivity to transaction costs.\n",
    "\n",
    "---\n",
    "\n",
    "## How It Works\n",
    "\n",
    "- **Transaction Cost Model:**  \n",
    "  For each stock, we calculate the cost as  \n",
    "  `transaction_cost = cost_rate × |new_weight - current_weight|`\n",
    "- **Objective Function:**  \n",
    "  - For maximizing Sharpe ratio: we subtract the penalty from the numerator.\n",
    "  - For minimizing volatility: we add the penalty as a term.\n",
    "- **Alpha Parameter:**  \n",
    "  - **High alpha:** Focus on returns, accept higher costs.\n",
    "  - **Low alpha:** Focus on minimizing costs, accept lower returns.\n",
    "\n",
    "---\n",
    "\n",
    "## Key Takeaways\n",
    "\n",
    "- **Higher returns often mean higher costs.**\n",
    "- **You can control the trade-off:** Adjusting alpha lets you find your own balance between performance and cost.\n",
    "- **Portfolios with low alpha values look very different from your original; high alpha values keep your portfolio changes minimal.**\n",
    "\n",
    "---\n",
    "\n",
    "## Data & Results\n",
    "\n",
    "- All results, including weights for different alpha values and turnover statistics, are saved as CSV files for further analysis.\n",
    "- Visualizations help you see the impact of transaction costs on your portfolio.\n",
    "\n",
    "---\n",
    "\n",
    "> **Note:**  \n",
    "> This transaction cost-aware optimization is a feature planned for future implementation in the main Portfolio Optimizer app. Stay tuned for updates as we bring more real-world realism to your"
   ]
  },
  {
   "cell_type": "code",
   "execution_count": 1,
   "id": "e9a186e6",
   "metadata": {},
   "outputs": [
    {
     "data": {
      "text/plain": [
       "Index(['HDFCBANK.NS', 'ICICIBANK.NS', 'INFY.NS', 'RELIANCE.NS', 'TCS.NS'], dtype='object')"
      ]
     },
     "execution_count": 1,
     "metadata": {},
     "output_type": "execute_result"
    }
   ],
   "source": [
    "#importing data\n",
    "import pandas as pd\n",
    "import numpy as np \n",
    "from scipy.optimize import minimize\n",
    "import matplotlib.pyplot as plt \n",
    "\n",
    "expected_returns = pd.read_csv(\"../Reports/expected_returns.csv\",index_col=0)\n",
    "cov_matrix = pd.read_csv(\"../Reports/cov_matrix.csv\",index_col=0)\n",
    "optimal_weights = pd.read_csv(\"../Reports/Sector_constrained_portfolio.csv\",index_col=0)\n",
    "tickers = expected_returns.index\n",
    "tickers"
   ]
  },
  {
   "cell_type": "code",
   "execution_count": 2,
   "id": "e4a0105f",
   "metadata": {},
   "outputs": [
    {
     "data": {
      "text/plain": [
       "array([0.2, 0.2, 0.2, 0.2, 0.2])"
      ]
     },
     "execution_count": 2,
     "metadata": {},
     "output_type": "execute_result"
    }
   ],
   "source": [
    "# Defining the user input portfolio\n",
    "# This is a sample input, can be modified as per need\n",
    "user_input = {\n",
    "    'TCS.NS': 0.2,\n",
    "    'INFY.NS': 0.2,\n",
    "    'ICICIBANK.NS': 0.2,\n",
    "    'RELIANCE.NS': 0.2,\n",
    "    'HDFCBANK.NS' : 0.2\n",
    "}\n",
    "# Function to map user input portfolio to a vector\n",
    "def map_user_portfolio_to_vector(user_input, tickers):\n",
    "    weight_vector = []\n",
    "    for ticker in tickers:\n",
    "        weight_vector.append(user_input.get(ticker, 0.0))\n",
    "    return np.array(weight_vector)\n",
    "current_weights = map_user_portfolio_to_vector(user_input, tickers)\n",
    "current_weights = current_weights / current_weights.sum()\n",
    "current_weights\n"
   ]
  },
  {
   "cell_type": "code",
   "execution_count": 3,
   "id": "d02e3ed2",
   "metadata": {},
   "outputs": [],
   "source": [
    "# Function to generate the transaction costs based on the current weights and optimal weights and make an objective function\n",
    "def transaction_cost_aware_objective(w_new, expected_returns, cov_matrix, w_current, risk_free_rate, alpha, transaction_costs):\n",
    "    # Ensure expected_returns is a 1D array\n",
    "    exp_ret = expected_returns.values.flatten()\n",
    "    port_return = np.dot(w_new, exp_ret)\n",
    "    port_vol = np.sqrt(np.dot(w_new.T, np.dot(cov_matrix, w_new)))\n",
    "    sharpe_ratio = (port_return - risk_free_rate) / port_vol\n",
    "\n",
    "    penalty = np.sum(transaction_costs * np.abs(w_new - w_current))\n",
    "\n",
    "    # Final objective\n",
    "    return float(-sharpe_ratio + alpha * penalty)"
   ]
  },
  {
   "cell_type": "code",
   "execution_count": 4,
   "id": "0bf47016",
   "metadata": {},
   "outputs": [
    {
     "data": {
      "text/plain": [
       "[{'type': 'eq', 'fun': <function __main__.<lambda>(w)>},\n",
       " {'type': 'ineq',\n",
       "  'fun': <function __main__.<lambda>(w, idx=[0, 1], max_val=0.4)>},\n",
       " {'type': 'ineq',\n",
       "  'fun': <function __main__.<lambda>(w, idx=[0, 1], min_val=0.05)>},\n",
       " {'type': 'ineq',\n",
       "  'fun': <function __main__.<lambda>(w, idx=[2, 4], max_val=0.4)>},\n",
       " {'type': 'ineq',\n",
       "  'fun': <function __main__.<lambda>(w, idx=[2, 4], min_val=0.05)>},\n",
       " {'type': 'ineq',\n",
       "  'fun': <function __main__.<lambda>(w, idx=[3], max_val=0.4)>},\n",
       " {'type': 'ineq',\n",
       "  'fun': <function __main__.<lambda>(w, idx=[3], min_val=0.05)>}]"
      ]
     },
     "execution_count": 4,
     "metadata": {},
     "output_type": "execute_result"
    }
   ],
   "source": [
    "#creating the constraints\n",
    "import yfinance as yf \n",
    "from collections import defaultdict\n",
    "\n",
    "sector_mapping = {\n",
    "    ticker : yf.Ticker(ticker).info.get('sector') for ticker in tickers\n",
    "}\n",
    "\n",
    "\n",
    "sector_indices = defaultdict(list)\n",
    "\n",
    "# index-based grouping\n",
    "for i, stock in enumerate(sector_mapping):\n",
    "    sector = sector_mapping[stock]\n",
    "    sector_indices[sector].append(i)\n",
    "custom_sector_constraints = {\n",
    "    'Technology': {'min': 0.05, 'max': 0.40},\n",
    "    'Financial Services': {'min': 0.05, 'max': 0.40},\n",
    "    'Energy': {'min': 0.05, 'max': 0.40}\n",
    "}\n",
    "\n",
    "sector_constraints = []\n",
    "\n",
    "for sector, indices in sector_indices.items():\n",
    "    if sector in custom_sector_constraints:\n",
    "        min_limit = custom_sector_constraints[sector]['min']\n",
    "        max_limit = custom_sector_constraints[sector]['max']\n",
    "\n",
    "        sector_constraints.append({\n",
    "            'type': 'ineq',\n",
    "            'fun': lambda w, idx=indices, max_val=max_limit: max_val - np.sum(w[idx])\n",
    "        })\n",
    "\n",
    "        sector_constraints.append({\n",
    "            'type': 'ineq',\n",
    "            'fun': lambda w, idx=indices, min_val=min_limit: np.sum(w[idx]) - min_val\n",
    "        })\n",
    "\n",
    "\n",
    "\n",
    "all_constraints = [\n",
    "    {'type': 'eq', 'fun': lambda w: np.sum(w) - 1},\n",
    "] + sector_constraints\n",
    "\n",
    "all_constraints"
   ]
  },
  {
   "cell_type": "code",
   "execution_count": 5,
   "id": "fa730785",
   "metadata": {},
   "outputs": [
    {
     "data": {
      "text/plain": [
       "array([0.1      , 0.3      , 0.2972109, 0.2      , 0.1027891])"
      ]
     },
     "execution_count": 5,
     "metadata": {},
     "output_type": "execute_result"
    }
   ],
   "source": [
    "#Optimization setup\n",
    "transaction_costs = np.ones(len(expected_returns)) * 0.005  \n",
    "risk_free_rate = 0.06\n",
    "num_assets = len(expected_returns)\n",
    "bounds = tuple((0.05,0.3) for _ in range(num_assets))\n",
    "alpha = 10\n",
    "\n",
    "# Running the optimization\n",
    "result = minimize(\n",
    "    transaction_cost_aware_objective,\n",
    "    x0=current_weights,\n",
    "    args=(expected_returns, cov_matrix, current_weights, risk_free_rate, alpha, transaction_costs),\n",
    "    method='SLSQP',\n",
    "    bounds=bounds,\n",
    "    constraints=all_constraints\n",
    ")\n",
    "result.x"
   ]
  },
  {
   "cell_type": "code",
   "execution_count": 6,
   "id": "226fd518",
   "metadata": {},
   "outputs": [
    {
     "name": "stdout",
     "output_type": "stream",
     "text": [
      "Alpha: 0\n",
      "  Sharpe Ratio: 0.9711\n",
      "  Turnover: 0.0021\n",
      "  Weights: [0.1    0.3    0.3    0.2129 0.0871]\n",
      "\n",
      "Alpha: 1\n",
      "  Sharpe Ratio: 0.9710\n",
      "  Turnover: 0.0021\n",
      "  Weights: [0.1    0.3    0.3    0.2091 0.0909]\n",
      "\n",
      "Alpha: 5\n",
      "  Sharpe Ratio: 0.9708\n",
      "  Turnover: 0.0020\n",
      "  Weights: [0.1 0.3 0.3 0.2 0.1]\n",
      "\n",
      "Alpha: 10\n",
      "  Sharpe Ratio: 0.9706\n",
      "  Turnover: 0.0020\n",
      "  Weights: [0.1    0.3    0.2972 0.2    0.1028]\n",
      "\n",
      "Alpha: 20\n",
      "  Sharpe Ratio: 0.9584\n",
      "  Turnover: 0.0012\n",
      "  Weights: [0.1    0.3    0.2154 0.2    0.1846]\n",
      "\n",
      "Alpha: 50\n",
      "  Sharpe Ratio: 0.9551\n",
      "  Turnover: 0.0010\n",
      "  Weights: [0.1 0.3 0.2 0.2 0.2]\n",
      "\n",
      "Alpha: 60\n",
      "  Sharpe Ratio: 0.9551\n",
      "  Turnover: 0.0010\n",
      "  Weights: [0.1 0.3 0.2 0.2 0.2]\n",
      "\n",
      "Alpha: 100\n",
      "  Sharpe Ratio: 0.8770\n",
      "  Turnover: 0.0000\n",
      "  Weights: [0.2 0.2 0.2 0.2 0.2]\n",
      "\n"
     ]
    }
   ],
   "source": [
    "# simulating the effect of different alphas on the Sharpe ratio and turnover\n",
    "# This will help us understand how the penalty affects the optimization outcome\n",
    "alphas = [0, 1, 5, 10, 20, 50,60 ,100]\n",
    "turnovers = []\n",
    "sharpes = []\n",
    "\n",
    "for alpha in alphas:\n",
    "    # Define the new objective with alpha\n",
    "    def penalized_objective(w):\n",
    "        exp_ret = expected_returns.values.flatten()\n",
    "        ret = np.dot(w, exp_ret)\n",
    "        vol = np.sqrt(np.dot(w.T, np.dot(cov_matrix, w)))\n",
    "        sharpe = (ret - risk_free_rate) / vol\n",
    "        transaction_penalty = np.sum(transaction_costs * np.abs(w - current_weights))\n",
    "        return -sharpe + alpha * transaction_penalty  # we minimize this\n",
    "\n",
    "    result = minimize(\n",
    "        penalized_objective,\n",
    "        x0=np.ones(len(expected_returns)) / len(expected_returns),\n",
    "        method='SLSQP',\n",
    "        bounds=bounds,\n",
    "        constraints=all_constraints  # include sector constraints if needed\n",
    "    )\n",
    "\n",
    "    if result.success:\n",
    "        w_opt = result.x\n",
    "        exp_ret = expected_returns.values.flatten()\n",
    "        ret = np.dot(w_opt, exp_ret)\n",
    "        vol = np.sqrt(np.dot(w_opt.T, np.dot(cov_matrix, w_opt)))\n",
    "        sharpe = (ret - risk_free_rate) / vol\n",
    "        turnover = np.sum(transaction_costs * np.abs(w_opt - current_weights))\n",
    "\n",
    "        turnovers.append(turnover)\n",
    "        sharpes.append(sharpe)\n",
    "\n",
    "        print(f\"Alpha: {alpha}\")\n",
    "        print(f\"  Sharpe Ratio: {sharpe:.4f}\")\n",
    "        print(f\"  Turnover: {turnover:.4f}\")\n",
    "        print(f\"  Weights: {np.round(w_opt, 4)}\\n\")\n",
    "    else:\n",
    "        print(f\"Optimization failed for alpha = {alpha}\")\n",
    "        turnovers.append(np.nan)\n",
    "        sharpes.append(np.nan)\n"
   ]
  },
  {
   "cell_type": "code",
   "execution_count": 7,
   "id": "dccbe04f",
   "metadata": {},
   "outputs": [
    {
     "data": {
      "image/png": "[encoded data removed]",
      "text/plain": [
       "<Figure size 1000x600 with 1 Axes>"
      ]
     },
     "metadata": {},
     "output_type": "display_data"
    }
   ],
   "source": [
    "#plotting the results for better visualization\n",
    "plt.figure(figsize=(10, 6))\n",
    "plt.plot(turnovers, sharpes, marker='o', linestyle='--', color='purple')\n",
    "plt.xlabel(\"Turnover (Transaction Penalty)\")\n",
    "plt.ylabel(\"Sharpe Ratio\")\n",
    "plt.title(\"Trade-off Between Sharpe Ratio and Transaction Cost\")\n",
    "plt.grid(True)\n",
    "plt.tight_layout()\n",
    "plt.savefig(\"../Reports/Charts/Tradeof_fBetween_Sharpe_Ratio_and_Transaction_Cost.png\")\n",
    "plt.show()\n"
   ]
  },
  {
   "cell_type": "code",
   "execution_count": 8,
   "id": "7a5747e6",
   "metadata": {},
   "outputs": [
    {
     "data": {
      "image/png": "[encoded data removed]",
      "text/plain": [
       "<Figure size 1200x600 with 1 Axes>"
      ]
     },
     "metadata": {},
     "output_type": "display_data"
    }
   ],
   "source": [
    "#plotting the portfolio weights across different alpha values\n",
    "# This will help visualize how the weights change with different penalties\n",
    "all_weights = []\n",
    "\n",
    "for alpha in alphas:\n",
    "    def penalized_objective(w):\n",
    "        exp_ret = expected_returns.values.flatten()\n",
    "        ret = np.dot(w, exp_ret)\n",
    "        vol = np.sqrt(np.dot(w.T, np.dot(cov_matrix, w)))\n",
    "        sharpe = (ret - risk_free_rate) / vol\n",
    "        transaction_penalty = np.sum(transaction_costs * np.abs(w - current_weights))\n",
    "        return -sharpe + alpha * transaction_penalty \n",
    "\n",
    "    result = minimize(\n",
    "        penalized_objective,\n",
    "        x0=np.ones(len(expected_returns)) / len(expected_returns),\n",
    "        method='SLSQP',\n",
    "        bounds=bounds,\n",
    "        constraints=all_constraints  \n",
    "    )\n",
    "    if result.success:\n",
    "        all_weights.append(result.x)\n",
    "\n",
    "weights_df = pd.DataFrame(all_weights, columns=tickers, index=[f\"α={a}\" for a in alphas])\n",
    "\n",
    "# Plot stacked bar\n",
    "weights_df.plot(kind='bar', stacked=True, figsize=(12, 6), colormap='tab20')\n",
    "plt.title(\"Portfolio Weights Across Different Alpha Values\")\n",
    "plt.ylabel(\"Weight\")\n",
    "plt.xlabel(\"Alpha\")\n",
    "plt.legend(title=\"Stocks\", bbox_to_anchor=(1.05, 1), loc='upper left')\n",
    "plt.tight_layout()\n",
    "plt.grid(True)\n",
    "plt.savefig(\"../Reports/Charts/Portfolio_Weights_Across_Different_Alpha_Values.png\")\n",
    "plt.show()\n"
   ]
  },
  {
   "cell_type": "code",
   "execution_count": 9,
   "id": "1bbb4ba6",
   "metadata": {},
   "outputs": [],
   "source": [
    "#saving the results to CSV files\n",
    "results_df = pd.DataFrame({\n",
    "    'Alpha': alphas,\n",
    "    'Sharpe Ratio': sharpes,\n",
    "    'Turnover': turnovers\n",
    "})\n",
    "weights_df.index.name = 'Alpha'\n",
    "weights_df.to_csv(\"../Reports/weights_for_different_alpha.csv\")\n",
    "results_df.to_csv(\"../Reports/transaction_cost_tradeoff.csv\", index=False)\n"
   ]
  },
  {
   "cell_type": "code",
   "execution_count": null,
   "id": "19ec23b6",
   "metadata": {},
   "outputs": [
    {
     "name": "stdout",
     "output_type": "stream",
     "text": [
      "Transaction cost optimized minimum volatility portfolio weights:\n",
      "HDFCBANK.NS: 0.2138\n",
      "ICICIBANK.NS: 0.1862\n",
      "INFY.NS: 0.1001\n",
      "RELIANCE.NS: 0.2000\n",
      "TCS.NS: 0.2999\n"
     ]
    }
   ],
   "source": [
    "# Function to optimize the minimum volatility portfolio with transaction costs\n",
    "def transaction_cost_min_vol_objective(w_new, cov_matrix, w_current, alpha, transaction_costs):\n",
    "    port_vol = np.sqrt(np.dot(w_new.T, np.dot(cov_matrix, w_new)))\n",
    "    penalty = np.sum(transaction_costs * np.abs(w_new - w_current))\n",
    "    return float(port_vol + alpha * penalty)\n",
    "\n",
    "alpha_minvol = 1  # You can adjust this value as needed\n",
    "\n",
    "result_minvol = minimize(\n",
    "    transaction_cost_min_vol_objective,\n",
    "    x0=current_weights,\n",
    "    args=(cov_matrix, current_weights, alpha_minvol, transaction_costs),\n",
    "    method='SLSQP',\n",
    "    bounds=bounds,\n",
    "    constraints=all_constraints\n",
    ")\n",
    "\n",
    "if result_minvol.success:\n",
    "    minvol_weights = result_minvol.x\n",
    "    print(\"Transaction cost optimized minimum volatility portfolio weights:\")\n",
    "    for ticker, weight in zip(tickers, minvol_weights):\n",
    "        print(f\"{ticker}: {weight:.4f}\")\n",
    "else:\n",
    "    print(\"Optimization failed for minimum volatility portfolio.\")"
   ]
  },
  {
   "cell_type": "markdown",
   "id": "020c2769",
   "metadata": {},
   "source": [
    "#  Portfolio Optimization with Transaction Costs\n",
    "\n",
    "##  Overview\n",
    "\n",
    "In this notebook, we explore how **transaction costs** impact portfolio rebalancing. This feature is crucial for investors who already hold a portfolio and wish to adjust their allocations.\n",
    "\n",
    "---\n",
    "\n",
    "##  Methodology\n",
    "\n",
    "- **Transaction Cost Assumption:**  \n",
    "  We assume a constant transaction cost of **0.5%** for buying or selling any stock. While real-world costs can be estimated from bid-ask spreads, we use a fixed rate for simplicity.\n",
    "\n",
    "- **Penalty Calculation:**  \n",
    "  1. Compute the change in investment for each stock (final minus initial allocation).\n",
    "  2. Multiply this change by the transaction cost percentage to obtain the **penalty**.\n",
    "\n",
    "- **Trade-off Parameter (Alpha):**  \n",
    "  - We introduce a parameter **alpha** (λ), which controls the trade-off between maximizing returns and minimizing transaction costs.\n",
    "  - **High alpha:** Prioritizes returns, even if transaction costs are high.\n",
    "  - **Low alpha:** Accepts lower returns to reduce transaction costs.\n",
    "\n",
    "---\n",
    "\n",
    "##  Experimentation\n",
    "\n",
    "- **Single Alpha Simulation:**  \n",
    "  Simulate the portfolio optimization for a single alpha value to observe the effect.\n",
    "\n",
    "- **Multiple Alpha Analysis:**  \n",
    "  Loop through various alpha values to analyze how the trade-off affects portfolio turnover and performance.\n",
    "\n",
    "---\n",
    "\n",
    "##  Key Observations\n",
    "\n",
    "- **Turnover vs. Sharpe Ratio:**  \n",
    "  Higher Sharpe ratios are generally associated with higher transaction cost penalties.\n",
    "\n",
    "- **Portfolio Weights Comparison:**  \n",
    "  - **Low alpha:** Allows for significant reallocation, resulting in portfolios that differ more from the original.\n",
    "  - **High alpha:** The optimized portfolio closely resembles the original, indicating minimal changes due to high penalty sensitivity.\n",
    "  - **Medium to low alpha:** Portfolios have similar weights, suggesting these alpha values offer a balanced trade-off.\n",
    "\n",
    "---\n",
    "\n",
    "##  Data Storage\n",
    "\n",
    "All results, including weights for different alphas and turnover statistics, are saved as CSV files for further analysis.\n",
    "\n",
    "---\n",
    "\n",
    ">  **Conclusion:**  \n",
    "> Factoring in transaction costs is essential for realistic portfolio optimization. By tuning alpha, investors can control how much they are willing to trade off between maximizing returns and minimizing costs."
   ]
  }
 ],
 "metadata": {
  "kernelspec": {
   "display_name": "venv",
   "language": "python",
   "name": "python3"
  },
  "language_info": {
   "codemirror_mode": {
    "name": "ipython",
    "version": 3
   },
   "file_extension": ".py",
   "mimetype": "text/x-python",
   "name": "python",
   "nbconvert_exporter": "python",
   "pygments_lexer": "ipython3",
   "version": "3.12.4"
  }
 },
 "nbformat": 4,
 "nbformat_minor": 5
}
