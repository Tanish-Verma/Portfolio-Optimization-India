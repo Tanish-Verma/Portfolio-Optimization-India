{
 "cells": [
  {
   "cell_type": "markdown",
   "id": "a3a7f037",
   "metadata": {},
   "source": [
    "# 1. Introduction\n",
    "\n",
    "In theoretical portfolio optimization, we typically assume that reallocating investments is free of cost. However, in the real world, buying or selling stocks incurs **transaction costs**, which can significantly impact the portfolio's actual performance.\n",
    "\n",
    "In this notebook, we aim to make the optimization more **realistic** by simulating these transaction costs and incorporating them into the optimization framework.\n",
    "\n",
    "---\n",
    "\n",
    "### 🔍 Objectives:\n",
    "- Introduce a **transaction cost penalty** into the optimization problem.\n",
    "- Compare the **existing portfolio** (e.g., equal-weight or previous optimal) against a **new optimized one**.\n",
    "- Penalize large changes in allocation to reduce **turnover** and **cost impact**.\n",
    "- Study how this affects the **Sharpe ratio**, volatility, and allocation structure.\n",
    "\n",
    "---\n",
    "\n",
    "### 🛠️ Method:\n",
    "- Define a **current portfolio** (e.g., equal-weighted).\n",
    "- Use a cost model:\n",
    "  \\[\n",
    "  \\text{Transaction Cost} = \\sum_{i=1}^{N} \\text{cost\\_rate}_i \\times |\\text{new\\_weight}_i - \\text{current\\_weight}_i|\n",
    "  \\]\n",
    "- Adjust the objective function by penalizing this cost:\n",
    "  - For max Sharpe → subtract from numerator.\n",
    "  - For min volatility → add as a penalty term.\n",
    "\n",
    "---\n",
    "\n",
    "This approach brings us a step closer to **practical portfolio management**, where minimizing cost is as crucial as maximizing return.\n"
   ]
  },
  {
   "cell_type": "code",
   "execution_count": 19,
   "id": "e9a186e6",
   "metadata": {},
   "outputs": [
    {
     "data": {
      "text/plain": [
       "Index(['HDFCBANK.NS', 'ICICIBANK.NS', 'INFY.NS', 'RELIANCE.NS', 'TCS.NS'], dtype='object')"
      ]
     },
     "execution_count": 19,
     "metadata": {},
     "output_type": "execute_result"
    }
   ],
   "source": [
    "import pandas as pd\n",
    "import numpy as np \n",
    "from scipy.optimize import minimize\n",
    "import matplotlib.pyplot as plt \n",
    "\n",
    "expected_returns = pd.read_csv(\"../Reports/expected_returns.csv\",index_col=0)\n",
    "cov_matrix = pd.read_csv(\"../Reports/cov_matrix.csv\",index_col=0)\n",
    "optimal_weights = pd.read_csv(\"../Reports/Sector_constrained_portfolio.csv\",index_col=0)\n",
    "tickers = expected_returns.index\n",
    "tickers"
   ]
  },
  {
   "cell_type": "code",
   "execution_count": 3,
   "id": "e4a0105f",
   "metadata": {},
   "outputs": [
    {
     "data": {
      "text/plain": [
       "array([0.2, 0.2, 0.2, 0.2, 0.2])"
      ]
     },
     "execution_count": 3,
     "metadata": {},
     "output_type": "execute_result"
    }
   ],
   "source": [
    "user_input = {\n",
    "    'TCS.NS': 0.2,\n",
    "    'INFY.NS': 0.2,\n",
    "    'ICICIBANK.NS': 0.2,\n",
    "    'RELIANCE.NS': 0.2,\n",
    "    'HDFCBANK.NS' : 0.2\n",
    "}\n",
    "\n",
    "def map_user_portfolio_to_vector(user_input, tickers):\n",
    "    weight_vector = []\n",
    "    for ticker in tickers:\n",
    "        weight_vector.append(user_input.get(ticker, 0.0))\n",
    "    return np.array(weight_vector)\n",
    "current_weights = map_user_portfolio_to_vector(user_input, tickers)\n",
    "current_weights = current_weights / current_weights.sum()\n",
    "current_weights\n"
   ]
  },
  {
   "cell_type": "code",
   "execution_count": 8,
   "id": "d02e3ed2",
   "metadata": {},
   "outputs": [],
   "source": [
    "def transaction_cost_aware_objective(w_new, expected_returns, cov_matrix, w_current, risk_free_rate, alpha, transaction_costs):\n",
    "    # Ensure expected_returns is a 1D array\n",
    "    exp_ret = expected_returns.values.flatten()\n",
    "    port_return = np.dot(w_new, exp_ret)\n",
    "    port_vol = np.sqrt(np.dot(w_new.T, np.dot(cov_matrix, w_new)))\n",
    "    sharpe_ratio = (port_return - risk_free_rate) / port_vol\n",
    "\n",
    "    penalty = np.sum(transaction_costs * np.abs(w_new - w_current))\n",
    "\n",
    "    # Final objective\n",
    "    return float(-sharpe_ratio + alpha * penalty)"
   ]
  },
  {
   "cell_type": "code",
   "execution_count": 5,
   "id": "0bf47016",
   "metadata": {},
   "outputs": [
    {
     "data": {
      "text/plain": [
       "[{'type': 'eq', 'fun': <function __main__.<lambda>(w)>},\n",
       " {'type': 'ineq',\n",
       "  'fun': <function __main__.<lambda>(w, idx=[0, 1], max_val=0.4)>},\n",
       " {'type': 'ineq',\n",
       "  'fun': <function __main__.<lambda>(w, idx=[0, 1], min_val=0.05)>},\n",
       " {'type': 'ineq',\n",
       "  'fun': <function __main__.<lambda>(w, idx=[2, 4], max_val=0.4)>},\n",
       " {'type': 'ineq',\n",
       "  'fun': <function __main__.<lambda>(w, idx=[2, 4], min_val=0.05)>},\n",
       " {'type': 'ineq',\n",
       "  'fun': <function __main__.<lambda>(w, idx=[3], max_val=0.4)>},\n",
       " {'type': 'ineq',\n",
       "  'fun': <function __main__.<lambda>(w, idx=[3], min_val=0.05)>}]"
      ]
     },
     "execution_count": 5,
     "metadata": {},
     "output_type": "execute_result"
    }
   ],
   "source": [
    "import yfinance as yf \n",
    "from collections import defaultdict\n",
    "\n",
    "sector_mapping = {\n",
    "    ticker : yf.Ticker(ticker).info.get('sector') for ticker in tickers\n",
    "}\n",
    "\n",
    "\n",
    "sector_indices = defaultdict(list)\n",
    "\n",
    "# index-based grouping\n",
    "for i, stock in enumerate(sector_mapping):\n",
    "    sector = sector_mapping[stock]\n",
    "    sector_indices[sector].append(i)\n",
    "custom_sector_constraints = {\n",
    "    'Technology': {'min': 0.05, 'max': 0.40},\n",
    "    'Financial Services': {'min': 0.05, 'max': 0.40},\n",
    "    'Energy': {'min': 0.05, 'max': 0.40}\n",
    "}\n",
    "\n",
    "sector_constraints = []\n",
    "\n",
    "for sector, indices in sector_indices.items():\n",
    "    if sector in custom_sector_constraints:\n",
    "        min_limit = custom_sector_constraints[sector]['min']\n",
    "        max_limit = custom_sector_constraints[sector]['max']\n",
    "\n",
    "        sector_constraints.append({\n",
    "            'type': 'ineq',\n",
    "            'fun': lambda w, idx=indices, max_val=max_limit: max_val - np.sum(w[idx])\n",
    "        })\n",
    "\n",
    "        sector_constraints.append({\n",
    "            'type': 'ineq',\n",
    "            'fun': lambda w, idx=indices, min_val=min_limit: np.sum(w[idx]) - min_val\n",
    "        })\n",
    "\n",
    "\n",
    "\n",
    "all_constraints = [\n",
    "    {'type': 'eq', 'fun': lambda w: np.sum(w) - 1},\n",
    "] + sector_constraints\n",
    "\n",
    "all_constraints"
   ]
  },
  {
   "cell_type": "code",
   "execution_count": 18,
   "id": "fa730785",
   "metadata": {},
   "outputs": [
    {
     "data": {
      "text/plain": [
       "array([0.1, 0.3, 0.3, 0.2, 0.1])"
      ]
     },
     "execution_count": 18,
     "metadata": {},
     "output_type": "execute_result"
    }
   ],
   "source": [
    "transaction_costs = np.ones(len(expected_returns)) * 0.005  \n",
    "risk_free_rate = 0.06\n",
    "num_assets = len(expected_returns)\n",
    "bounds = tuple((0.05,0.3) for _ in range(num_assets))\n",
    "alpha = 10\n",
    "\n",
    "result = minimize(\n",
    "    transaction_cost_aware_objective,\n",
    "    x0=current_weights,\n",
    "    args=(expected_returns, cov_matrix, current_weights, risk_free_rate, alpha, transaction_costs),\n",
    "    method='SLSQP',\n",
    "    bounds=bounds,\n",
    "    constraints=all_constraints\n",
    ")\n",
    "result.x"
   ]
  },
  {
   "cell_type": "code",
   "execution_count": 28,
   "id": "226fd518",
   "metadata": {},
   "outputs": [
    {
     "name": "stdout",
     "output_type": "stream",
     "text": [
      "Alpha: 0\n",
      "  Sharpe Ratio: 0.9736\n",
      "  Turnover: 0.0022\n",
      "  Weights: [0.1    0.3    0.3    0.2215 0.0785]\n",
      "\n",
      "Alpha: 1\n",
      "  Sharpe Ratio: 0.9736\n",
      "  Turnover: 0.0022\n",
      "  Weights: [0.1    0.3    0.3    0.2177 0.0823]\n",
      "\n",
      "Alpha: 5\n",
      "  Sharpe Ratio: 0.9731\n",
      "  Turnover: 0.0020\n",
      "  Weights: [0.1    0.3    0.3    0.2029 0.0971]\n",
      "\n",
      "Alpha: 10\n",
      "  Sharpe Ratio: 0.9730\n",
      "  Turnover: 0.0020\n",
      "  Weights: [0.1 0.3 0.3 0.2 0.1]\n",
      "\n",
      "Alpha: 20\n",
      "  Sharpe Ratio: 0.9618\n",
      "  Turnover: 0.0013\n",
      "  Weights: [0.1    0.3    0.2287 0.2    0.1713]\n",
      "\n",
      "Alpha: 50\n",
      "  Sharpe Ratio: 0.9556\n",
      "  Turnover: 0.0010\n",
      "  Weights: [0.1 0.3 0.2 0.2 0.2]\n",
      "\n",
      "Alpha: 60\n",
      "  Sharpe Ratio: 0.9556\n",
      "  Turnover: 0.0010\n",
      "  Weights: [0.1 0.3 0.2 0.2 0.2]\n",
      "\n",
      "Alpha: 100\n",
      "  Sharpe Ratio: 0.8765\n",
      "  Turnover: 0.0000\n",
      "  Weights: [0.2 0.2 0.2 0.2 0.2]\n",
      "\n"
     ]
    }
   ],
   "source": [
    "alphas = [0, 1, 5, 10, 20, 50,60 ,100]\n",
    "turnovers = []\n",
    "sharpes = []\n",
    "\n",
    "for alpha in alphas:\n",
    "    # Define the new objective with alpha\n",
    "    def penalized_objective(w):\n",
    "        exp_ret = expected_returns.values.flatten()\n",
    "        ret = np.dot(w, exp_ret)\n",
    "        vol = np.sqrt(np.dot(w.T, np.dot(cov_matrix, w)))\n",
    "        sharpe = (ret - risk_free_rate) / vol\n",
    "        transaction_penalty = np.sum(transaction_costs * np.abs(w - current_weights))\n",
    "        return -sharpe + alpha * transaction_penalty  # we minimize this\n",
    "\n",
    "    result = minimize(\n",
    "        penalized_objective,\n",
    "        x0=np.ones(len(expected_returns)) / len(expected_returns),\n",
    "        method='SLSQP',\n",
    "        bounds=bounds,\n",
    "        constraints=all_constraints  # include sector constraints if needed\n",
    "    )\n",
    "\n",
    "    if result.success:\n",
    "        w_opt = result.x\n",
    "        exp_ret = expected_returns.values.flatten()\n",
    "        ret = np.dot(w_opt, exp_ret)\n",
    "        vol = np.sqrt(np.dot(w_opt.T, np.dot(cov_matrix, w_opt)))\n",
    "        sharpe = (ret - risk_free_rate) / vol\n",
    "        turnover = np.sum(transaction_costs * np.abs(w_opt - current_weights))\n",
    "\n",
    "        turnovers.append(turnover)\n",
    "        sharpes.append(sharpe)\n",
    "\n",
    "        print(f\"Alpha: {alpha}\")\n",
    "        print(f\"  Sharpe Ratio: {sharpe:.4f}\")\n",
    "        print(f\"  Turnover: {turnover:.4f}\")\n",
    "        print(f\"  Weights: {np.round(w_opt, 4)}\\n\")\n",
    "    else:\n",
    "        print(f\"Optimization failed for alpha = {alpha}\")\n",
    "        turnovers.append(np.nan)\n",
    "        sharpes.append(np.nan)\n"
   ]
  },
  {
   "cell_type": "code",
   "execution_count": 32,
   "id": "dccbe04f",
   "metadata": {},
   "outputs": [
    {
     "data": {
      "image/png": "[encoded data removed]",
      "text/plain": [
       "<Figure size 1000x600 with 1 Axes>"
      ]
     },
     "metadata": {},
     "output_type": "display_data"
    }
   ],
   "source": [
    "plt.figure(figsize=(10, 6))\n",
    "plt.plot(turnovers, sharpes, marker='o', linestyle='--', color='purple')\n",
    "plt.xlabel(\"Turnover (Transaction Penalty)\")\n",
    "plt.ylabel(\"Sharpe Ratio\")\n",
    "plt.title(\"Trade-off Between Sharpe Ratio and Transaction Cost\")\n",
    "plt.grid(True)\n",
    "plt.tight_layout()\n",
    "plt.savefig(\"../Reports/Charts/Tradeof_fBetween_Sharpe_Ratio_and_Transaction_Cost.png\")\n",
    "plt.show()\n"
   ]
  },
  {
   "cell_type": "code",
   "execution_count": 33,
   "id": "7a5747e6",
   "metadata": {},
   "outputs": [
    {
     "data": {
      "image/png": "[encoded data removed]",
      "text/plain": [
       "<Figure size 1200x600 with 1 Axes>"
      ]
     },
     "metadata": {},
     "output_type": "display_data"
    }
   ],
   "source": [
    "\n",
    "all_weights = []\n",
    "\n",
    "for alpha in alphas:\n",
    "    def penalized_objective(w):\n",
    "        exp_ret = expected_returns.values.flatten()\n",
    "        ret = np.dot(w, exp_ret)\n",
    "        vol = np.sqrt(np.dot(w.T, np.dot(cov_matrix, w)))\n",
    "        sharpe = (ret - risk_free_rate) / vol\n",
    "        transaction_penalty = np.sum(transaction_costs * np.abs(w - current_weights))\n",
    "        return -sharpe + alpha * transaction_penalty \n",
    "\n",
    "    result = minimize(\n",
    "        penalized_objective,\n",
    "        x0=np.ones(len(expected_returns)) / len(expected_returns),\n",
    "        method='SLSQP',\n",
    "        bounds=bounds,\n",
    "        constraints=all_constraints  \n",
    "    )\n",
    "    if result.success:\n",
    "        all_weights.append(result.x)\n",
    "\n",
    "weights_df = pd.DataFrame(all_weights, columns=tickers, index=[f\"α={a}\" for a in alphas])\n",
    "\n",
    "# Plot stacked bar\n",
    "weights_df.plot(kind='bar', stacked=True, figsize=(12, 6), colormap='tab20')\n",
    "plt.title(\"Portfolio Weights Across Different Alpha Values\")\n",
    "plt.ylabel(\"Weight\")\n",
    "plt.xlabel(\"Alpha\")\n",
    "plt.legend(title=\"Stocks\", bbox_to_anchor=(1.05, 1), loc='upper left')\n",
    "plt.tight_layout()\n",
    "plt.grid(True)\n",
    "plt.savefig(\"../Reports/Charts/Portfolio_Weights_Across_Different_Alpha_Values.png\")\n",
    "plt.show()\n"
   ]
  },
  {
   "cell_type": "code",
   "execution_count": 31,
   "id": "1bbb4ba6",
   "metadata": {},
   "outputs": [],
   "source": [
    "results_df = pd.DataFrame({\n",
    "    'Alpha': alphas,\n",
    "    'Sharpe Ratio': sharpes,\n",
    "    'Turnover': turnovers\n",
    "})\n",
    "weights_df.index.name = 'Alpha'\n",
    "weights_df.to_csv(\"../Reports/weights_for_different_alpha.csv\")\n",
    "results_df.to_csv(\"../Reports/transaction_cost_tradeoff.csv\", index=False)\n"
   ]
  },
  {
   "cell_type": "markdown",
   "id": "020c2769",
   "metadata": {},
   "source": [
    "#  Portfolio Optimization with Transaction Costs\n",
    "\n",
    "##  Overview\n",
    "\n",
    "In this notebook, we explore how **transaction costs** impact portfolio rebalancing. This feature is crucial for investors who already hold a portfolio and wish to adjust their allocations.\n",
    "\n",
    "---\n",
    "\n",
    "##  Methodology\n",
    "\n",
    "- **Transaction Cost Assumption:**  \n",
    "  We assume a constant transaction cost of **0.5%** for buying or selling any stock. While real-world costs can be estimated from bid-ask spreads, we use a fixed rate for simplicity.\n",
    "\n",
    "- **Penalty Calculation:**  \n",
    "  1. Compute the change in investment for each stock (final minus initial allocation).\n",
    "  2. Multiply this change by the transaction cost percentage to obtain the **penalty**.\n",
    "\n",
    "- **Trade-off Parameter (Alpha):**  \n",
    "  - We introduce a parameter **alpha** (λ), which controls the trade-off between maximizing returns and minimizing transaction costs.\n",
    "  - **High alpha:** Prioritizes returns, even if transaction costs are high.\n",
    "  - **Low alpha:** Accepts lower returns to reduce transaction costs.\n",
    "\n",
    "---\n",
    "\n",
    "##  Experimentation\n",
    "\n",
    "- **Single Alpha Simulation:**  \n",
    "  Simulate the portfolio optimization for a single alpha value to observe the effect.\n",
    "\n",
    "- **Multiple Alpha Analysis:**  \n",
    "  Loop through various alpha values to analyze how the trade-off affects portfolio turnover and performance.\n",
    "\n",
    "---\n",
    "\n",
    "##  Key Observations\n",
    "\n",
    "- **Turnover vs. Sharpe Ratio:**  \n",
    "  Higher Sharpe ratios are generally associated with higher transaction cost penalties.\n",
    "\n",
    "- **Portfolio Weights Comparison:**  \n",
    "  - **Low alpha:** Allows for significant reallocation, resulting in portfolios that differ more from the original.\n",
    "  - **High alpha:** The optimized portfolio closely resembles the original, indicating minimal changes due to high penalty sensitivity.\n",
    "  - **Medium to low alpha:** Portfolios have similar weights, suggesting these alpha values offer a balanced trade-off.\n",
    "\n",
    "---\n",
    "\n",
    "##  Data Storage\n",
    "\n",
    "All results, including weights for different alphas and turnover statistics, are saved as CSV files for further analysis.\n",
    "\n",
    "---\n",
    "\n",
    ">  **Conclusion:**  \n",
    "> Factoring in transaction costs is essential for realistic portfolio optimization. By tuning alpha, investors can control how much they are willing to trade off between maximizing returns and minimizing costs."
   ]
  },
  {
   "cell_type": "markdown",
   "id": "bb0768f1",
   "metadata": {},
   "source": []
  }
 ],
 "metadata": {
  "kernelspec": {
   "display_name": "venv",
   "language": "python",
   "name": "python3"
  },
  "language_info": {
   "codemirror_mode": {
    "name": "ipython",
    "version": 3
   },
   "file_extension": ".py",
   "mimetype": "text/x-python",
   "name": "python",
   "nbconvert_exporter": "python",
   "pygments_lexer": "ipython3",
   "version": "3.12.4"
  }
 },
 "nbformat": 4,
 "nbformat_minor": 5
}
